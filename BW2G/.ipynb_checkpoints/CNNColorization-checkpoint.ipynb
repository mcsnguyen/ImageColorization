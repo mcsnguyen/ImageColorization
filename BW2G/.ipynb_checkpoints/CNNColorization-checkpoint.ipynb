{
 "cells": [
  {
   "cell_type": "code",
   "execution_count": 1,
   "metadata": {
    "code_folding": [
     0
    ],
    "colab": {
     "base_uri": "https://localhost:8080/",
     "height": 124
    },
    "colab_type": "code",
    "executionInfo": {
     "elapsed": 20385,
     "status": "ok",
     "timestamp": 1557121273066,
     "user": {
      "displayName": "Michael Nguyen",
      "photoUrl": "",
      "userId": "00567827782916811779"
     },
     "user_tz": 420
    },
    "id": "1Cuc0HZWbz43",
    "outputId": "47fd2973-b904-4a7c-c12f-d4adc03a4036"
   },
   "outputs": [
    {
     "name": "stdout",
     "output_type": "stream",
     "text": [
      "Go to this URL in a browser: https://accounts.google.com/o/oauth2/auth?client_id=947318989803-6bn6qk8qdgf4n4g3pfee6491hc0brc4i.apps.googleusercontent.com&redirect_uri=urn%3Aietf%3Awg%3Aoauth%3A2.0%3Aoob&scope=email%20https%3A%2F%2Fwww.googleapis.com%2Fauth%2Fdocs.test%20https%3A%2F%2Fwww.googleapis.com%2Fauth%2Fdrive%20https%3A%2F%2Fwww.googleapis.com%2Fauth%2Fdrive.photos.readonly%20https%3A%2F%2Fwww.googleapis.com%2Fauth%2Fpeopleapi.readonly&response_type=code\n",
      "\n",
      "Enter your authorization code:\n",
      "··········\n",
      "Mounted at /content/drive\n"
     ]
    }
   ],
   "source": [
    "# Load the Drive helper and mount\n",
    "from google.colab import drive\n",
    "drive.mount('/content/drive')"
   ]
  },
  {
   "cell_type": "code",
   "execution_count": 0,
   "metadata": {
    "colab": {
     "base_uri": "https://localhost:8080/",
     "height": 34
    },
    "colab_type": "code",
    "executionInfo": {
     "elapsed": 1836,
     "status": "ok",
     "timestamp": 1556778741800,
     "user": {
      "displayName": "Michael Nguyen",
      "photoUrl": "",
      "userId": "00567827782916811779"
     },
     "user_tz": 420
    },
    "id": "bV1Te2AhcVGT",
    "outputId": "c0ada429-1b05-450c-b073-7f5aece5cbbe"
   },
   "outputs": [
    {
     "name": "stdout",
     "output_type": "stream",
     "text": [
      "/content\n"
     ]
    }
   ],
   "source": [
    "!pwd"
   ]
  },
  {
   "cell_type": "code",
   "execution_count": 2,
   "metadata": {
    "colab": {
     "base_uri": "https://localhost:8080/",
     "height": 34
    },
    "colab_type": "code",
    "executionInfo": {
     "elapsed": 19459,
     "status": "ok",
     "timestamp": 1557121273073,
     "user": {
      "displayName": "Michael Nguyen",
      "photoUrl": "",
      "userId": "00567827782916811779"
     },
     "user_tz": 420
    },
    "id": "2ruGBm3zcY0I",
    "outputId": "cd2b302f-a6cb-4410-8ac4-0c49317ef1ed"
   },
   "outputs": [
    {
     "name": "stdout",
     "output_type": "stream",
     "text": [
      "/content/drive/My Drive/BW2G\n"
     ]
    }
   ],
   "source": [
    "cd drive/My Drive/BW2G"
   ]
  },
  {
   "cell_type": "code",
   "execution_count": 0,
   "metadata": {
    "colab": {},
    "colab_type": "code",
    "id": "uyvR3GK5c0AR"
   },
   "outputs": [],
   "source": [
    "!ls"
   ]
  },
  {
   "cell_type": "code",
   "execution_count": 42,
   "metadata": {
    "colab": {},
    "colab_type": "code",
    "id": "fN81I8nobihZ"
   },
   "outputs": [],
   "source": [
    "import os\n",
    "import cv2\n",
    "import h5py\n",
    "import keras\n",
    "import shutil\n",
    "import numpy as np\n",
    "import tensorflow as tf\n",
    "import matplotlib.pyplot as plt\n",
    "\n",
    "from PIL import Image\n",
    "from keras.models import Sequential, Model, load_model\n",
    "from keras.layers import Input, InputLayer, Conv2D, MaxPooling2D, UpSampling2D, Concatenate, Conv2DTranspose, Dropout\n",
    "from keras.callbacks import EarlyStopping, TensorBoard\n",
    "from sklearn.model_selection import train_test_split"
   ]
  },
  {
   "cell_type": "code",
   "execution_count": 26,
   "metadata": {
    "colab": {},
    "colab_type": "code",
    "id": "i3f9Cvmybihg"
   },
   "outputs": [],
   "source": [
    "size = 256\n",
    "dir_size = 9601\n",
    "batch_size = 100\n",
    "test_num = 10\n",
    "channels = 1\n",
    "\n",
    "dataset_path = \"images/0\"\n",
    "dataset_test_path = \"images/1\"\n",
    "\n",
    "resized_train_path = \"squared_images/\"\n",
    "resized_test_path = \"squared_images/test/\"\n",
    "\n",
    "train_path = \"bw_images/\"\n",
    "train_path_v2 = \"blur_images/\"\n",
    "validate_path = \"gray_images/\"\n",
    "\n",
    "test_train_path = \"bw_test_images/\"\n",
    "test_val_path = \"gray_test_images/\"\n",
    "\n",
    "# Hyperparameters\n",
    "models_path = \"saved_parameters/\"\n",
    "\n",
    "saved_model = \"saved_model.h5\"\n",
    "saved_weights = \"saved_weights.h5\"\n",
    "\n",
    "saved_train_data = \"loaded_images.npz\"\n",
    "saved_test_data = \"loaded_test_images.npz\""
   ]
  },
  {
   "cell_type": "code",
   "execution_count": 27,
   "metadata": {
    "code_folding": [],
    "colab": {},
    "colab_type": "code",
    "id": "B9oUf1h4bihj",
    "scrolled": true
   },
   "outputs": [],
   "source": [
    "# Create directory\n",
    "def create_dir(folder_name):\n",
    "    folder = os.path.join(folder_name)\n",
    "    if not os.path.exists(folder):\n",
    "        os.mkdir(folder)\n",
    "    return folder\n",
    "                          \n",
    "def save_path(dir_path, file, appended_name):\n",
    "    file_base = os.path.basename(file)\n",
    "    file_name, file_ext = os.path.splitext(file_base)   \n",
    "    return dir_path + file_name + appended_name + file_ext\n",
    "\n",
    "def file_count(dir_path):\n",
    "    counter = 0\n",
    "    for file in os.listdir(dir_path):\n",
    "        counter += 1\n",
    "    return counter"
   ]
  },
  {
   "cell_type": "code",
   "execution_count": 41,
   "metadata": {
    "colab": {},
    "colab_type": "code",
    "id": "7GfvEEikhKHA"
   },
   "outputs": [],
   "source": [
    "# Image Preprocessing\n",
    "# Edge Detection Preprocessing\n",
    "def blur_images(rgb_arr):\n",
    "    blur_arr = []\n",
    "    for i in range(0, len(rgb_arr)):\n",
    "        blur = cv2.GaussianBlur(rgb_arr[i], (3,3), 0)\n",
    "        blur_arr.append(blur)\n",
    "    return blur_arr\n",
    "\n",
    "def get_edges(gray_arr):\n",
    "    edge_arr = []\n",
    "    for i in range(0, len(gray_arr)):\n",
    "        grayscale = cv2.cvtColor(gray_arr[i], cv2.COLOR_BGR2GRAY)\n",
    "        x_edges = cv2.Sobel(grayscale, cv2.CV_16S, 1, 0)\n",
    "        y_edges = cv2.Sobel(grayscale, cv2.CV_16S, 0, 1)\n",
    "\n",
    "        # Remove negative values\n",
    "        x_abs = cv2.convertScaleAbs(x_edges)\n",
    "        y_abs = cv2.convertScaleAbs(y_edges)\n",
    "        \n",
    "        # Edges are white, background is black\n",
    "        detected_edges = cv2.addWeighted(x_abs, 0.5, y_abs, 0.5, 0)\n",
    "        # Prepare colorspaces, Edges are black, background is white\n",
    "        inverted_colors = cv2.bitwise_not(detected_edges)\n",
    "        edge_arr.append(inverted_colors)\n",
    "    return edge_arr\n",
    "    \n",
    "# Resize Image\n",
    "# Creates a white image and pastes data into white image\n",
    "def square_images(dataset_path, size):\n",
    "    dir_path = create_dir(\"squared_images/\")\n",
    "    for file in os.listdir(dataset_path):\n",
    "        image = Image.open(os.path.join(dataset_path, file))\n",
    "        width, height = image.size\n",
    "        if(width != height and width != size):\n",
    "            squared_image = image.resize((size,size), Image.LANCZOS)\n",
    "            #squared_image.paste(image)\n",
    "            squared_image.save(save_path(dir_path, file, \"_SQ\"))"
   ]
  },
  {
   "cell_type": "code",
   "execution_count": 29,
   "metadata": {
    "colab": {},
    "colab_type": "code",
    "id": "O5aXyOLshl5O"
   },
   "outputs": [],
   "source": [
    "# Load in Preprocessed Images\n",
    "def load_saved(saved_data):\n",
    "    data = np.load(saved_data)\n",
    "    return data[\"train\"], data[\"validate\"]\n",
    "    \n",
    "def load_model_data(source_path, train_path, validate_path, load_train_size, model_dir, save_name):\n",
    "    img_names, loaded_RGB = load_images(source_path, load_train_size)\n",
    "    \n",
    "    loaded_GR, gray_np = convert_RGB2GR(validate_path, loaded_RGB)\n",
    "    loaded_BW , bw_np = convert_BLUR2EDGE(train_path_v2, loaded_RGB)\n",
    "    \n",
    "    save_images(train_path, validate_path, img_names, loaded_GR, \"GR\", loaded_BW, \"BW\")\n",
    "    save_loaded(model_dir, save_name, bw_np, gray_np)\n",
    "    return bw_np, gray_np\n",
    "  \n",
    "def load_images(dataset_path, size=None):\n",
    "    if size is None:\n",
    "        size = file_count(dataset_path)\n",
    "        #size = dir_size\n",
    "    img_arr = []\n",
    "    name_arr = []\n",
    "    \n",
    "    for file, i in zip(os.listdir(dataset_path), range(0, size)):\n",
    "        name = os.path.splitext(os.path.basename(file))[0]\n",
    "        img = cv2.imread(os.path.join(dataset_path, file))\n",
    "        name_arr.append(name)\n",
    "        img_arr.append(img)\n",
    "    return name_arr, img_arr\n",
    "    \n",
    "def convert_RGB2GR(validate_path, img_arr):\n",
    "    gray_arr = []\n",
    "    grayscale_path = create_dir(validate_path)\n",
    "    \n",
    "    for i in range(0, len(img_arr)):\n",
    "        print(\"Loading \" + str(i))\n",
    "        grayscale = cv2.cvtColor(img_arr[i], cv2.COLOR_BGR2GRAY) \n",
    "        gray_arr.append(grayscale)\n",
    "    return gray_arr, np.array(gray_arr)\n",
    "\n",
    "def convert_BLUR2EDGE(train_path, rgb_arr):\n",
    "    blur_path = create_dir(train_path)\n",
    "    blur_rgb = blur_images(rgb_arr)\n",
    "    edges = get_edges(blur_rgb)\n",
    "    return edges, np.array(edges)\n",
    "  \n",
    "def save_images(train_path, validate_path, names_arr, gray_arr, gray_tag, bw_arr, bw_tag):\n",
    "    gray_np = np.asarray(gray_arr)\n",
    "    bw_np = np.asarray(bw_arr)\n",
    "    \n",
    "    for i in range(0, len(gray_arr)):\n",
    "        gray_path = save_path(validate_path, names_arr[i], \"-{}.jpg\".format(gray_tag))\n",
    "        bw_path = save_path(train_path, names_arr[i], \"-{}.jpg\".format(bw_tag))\n",
    "        cv2.imwrite(gray_path, gray_np[i])\n",
    "        cv2.imwrite(bw_path, bw_np[i])\n",
    "\n",
    "def save_loaded(save_dir, save_name, train_np, validate_np):\n",
    "    save_dest = create_dir(save_dir)\n",
    "    save_dest = os.path.join(save_dir, save_name)\n",
    "    np.savez(save_dest, train=train_np, validate=validate_np)"
   ]
  },
  {
   "cell_type": "code",
   "execution_count": 30,
   "metadata": {
    "code_folding": [
     0,
     12,
     23
    ],
    "colab": {},
    "colab_type": "code",
    "id": "QLfFL2T2hPjR"
   },
   "outputs": [],
   "source": [
    "def test_split(bw_arr, gray_arr, size):\n",
    "    test_bw = []\n",
    "    test_gray = []\n",
    "    for count in range(len(bw_arr), len(bw_arr) - size, -1):\n",
    "        test_bw.append(bw_arr[count])\n",
    "        test_gray.append(gray_arr[count])\n",
    "    \n",
    "    test_bw_np = test_bw.array(test_bw)\n",
    "    test_gray_np = test_gray.array(test_gray)\n",
    "    return test_bw_np, test_gray_np\n",
    "                                \n",
    "# Load training and validating images with cv2 to capture channel dim\n",
    "def load_binary_gray(dir_path, size=None):\n",
    "    if size is None:\n",
    "        #size = file_count(dataset_path)\n",
    "        size = dir_size\n",
    "    data_arr = []\n",
    "    for file, count in zip(os.listdir(dir_path), range(0, size)):\n",
    "        img_read = cv2.imread(os.path.join(dir_path, file), 0)\n",
    "        img_read = np.array(img_read)\n",
    "        data_arr.append(img_read)\n",
    "    return data_arr\n",
    "\n",
    "def test_load(dir_path):\n",
    "    data_arr = []\n",
    "    counter = 0\n",
    "    for file in sorted(os.listdir(dir_path)):\n",
    "        img_read = cv2.imread(os.path.join(dir_path, file), 0)\n",
    "        img_read = np.array(img_read)\n",
    "        print(file)\n",
    "        print(img_read.shape)\n",
    "        data_arr.append(img_read)\n",
    "        counter += 1\n",
    "        if counter == 2:\n",
    "            return data_arr\n",
    "    return data_arr"
   ]
  },
  {
   "cell_type": "code",
   "execution_count": 31,
   "metadata": {
    "code_folding": [
     1
    ],
    "colab": {},
    "colab_type": "code",
    "id": "U745l4GOiNsf"
   },
   "outputs": [],
   "source": [
    "# Calculate epoch size to traverse all training data\n",
    "def step_size(dir_path, batch_size):\n",
    "    counter = 0\n",
    "    for file in os.listdir(dir_path):\n",
    "        if os.path.isfile(os.path.join(dir_path, file)):\n",
    "            counter += 1\n",
    "    return int(counter/batch_size)"
   ]
  },
  {
   "cell_type": "code",
   "execution_count": 40,
   "metadata": {
    "code_folding": [
     0
    ],
    "colab": {},
    "colab_type": "code",
    "id": "xcMRi_cjbihm"
   },
   "outputs": [
    {
     "name": "stdout",
     "output_type": "stream",
     "text": [
      "0\n",
      "1\n",
      "2\n",
      "3\n",
      "4\n",
      "5\n",
      "6\n",
      "7\n",
      "8\n"
     ]
    }
   ],
   "source": [
    "# Resize Image\n",
    "square_images(dataset_path, size)"
   ]
  },
  {
   "cell_type": "code",
   "execution_count": 0,
   "metadata": {
    "colab": {},
    "colab_type": "code",
    "id": "StNG12bQbiho",
    "scrolled": true
   },
   "outputs": [],
   "source": [
    "# Prepocess and load image into numpy arrays\n",
    "train_np, validate_np = load_model_data(resized_path, train_path, validate_path, None, models_path, saved_train_data)\n",
    "# Create test set\n",
    "test_train_np, test_validate_np = load_model_data(resized_path, train_path, validate_path, None, models_path, saved_test_data)"
   ]
  },
  {
   "cell_type": "code",
   "execution_count": 43,
   "metadata": {
    "colab": {},
    "colab_type": "code",
    "id": "kcPA8nWRqAGe"
   },
   "outputs": [],
   "source": [
    "# Load in preprocessed from npz\n",
    "train_np, validate_np = load_saved(os.path.join(models_path, saved_train_data))\n",
    "train_np, test_train_np, validate_np, test_validate_np = train_test_split(train_np, validate_np, test_size=0.1)"
   ]
  },
  {
   "cell_type": "code",
   "execution_count": 0,
   "metadata": {
    "code_folding": [],
    "colab": {},
    "colab_type": "code",
    "id": "gBddyK6Rbihq"
   },
   "outputs": [],
   "source": [
    "# Load images into arrays\n",
    "'''\n",
    "train_arr = load_binary_gray(train_path, 399)\n",
    "validate_arr = load_binary_gray(validate_path, 399)\n",
    "test_train_arr = load_binary_gray(test_train_path, 99)\n",
    "test_val_arr = load_binary_gray(test_val_path, 99)\n",
    "\n",
    "train_arr = test_load(train_path)\n",
    "validate_arr = test_load(validate_path)\n",
    "test_arr = test_load(test_path)\n",
    "\n",
    "\n",
    "# Convert image array into numpy array\n",
    "train_np = np.array(train_arr)\n",
    "validate_np = np.array(validate_arr)\n",
    "test_train_np = np.array(test_train_arr)\n",
    "test_val_np = np.array(test_val_arr)\n",
    "'''\n",
    "\n",
    "train_np = train_np.astype('float32')\n",
    "validate_np = validate_np.astype('float32')\n",
    "#test_train_np = test_train_np.astype('float32')\n",
    "#test_val_np = test_val_np.astype('float32')\n",
    "\n",
    "# Reshape to include channel dim for grayscale/black and white images\n",
    "train_np = train_np.reshape(train_np.shape[0], size, size, channels)\n",
    "validate_np = validate_np.reshape(validate_np.shape[0], size, size, channels)\n",
    "#test_train_np = test_train_np.reshape(test_train_np.shape[0], size, size, channels)\n",
    "#test_val_np = test_val_np.reshape(test_val_np.shape[0], size, size, channels)\n",
    "\n",
    "# Normalize\n",
    "train_np = train_np/255\n",
    "validate_np = validate_np/255\n",
    "#test_train_np = test_train_np/255\n",
    "#test_val_np = test_val_np/255\n"
   ]
  },
  {
   "cell_type": "code",
   "execution_count": 44,
   "metadata": {
    "code_folding": [],
    "colab": {
     "base_uri": "https://localhost:8080/",
     "height": 292
    },
    "colab_type": "code",
    "executionInfo": {
     "elapsed": 520,
     "status": "error",
     "timestamp": 1556851173270,
     "user": {
      "displayName": "Michael Nguyen",
      "photoUrl": "",
      "userId": "00567827782916811779"
     },
     "user_tz": 420
    },
    "id": "-Y106wjLbiht",
    "outputId": "d8aadf9d-8987-46a4-80d5-c147e714811c",
    "scrolled": true
   },
   "outputs": [
    {
     "name": "stdout",
     "output_type": "stream",
     "text": [
      "(8657, 256, 256)\n",
      "uint8\n",
      "(8657, 256, 256)\n",
      "uint8\n",
      "(962, 256, 256)\n",
      "(962, 256, 256)\n"
     ]
    },
    {
     "data": {
      "text/plain": [
       "<matplotlib.image.AxesImage at 0x7f13e4b2d048>"
      ]
     },
     "execution_count": 44,
     "metadata": {},
     "output_type": "execute_result"
    },
    {
     "data": {
      "image/png": "[encoded data removed]",
      "text/plain": [
       "<Figure size 432x288 with 1 Axes>"
      ]
     },
     "metadata": {
      "needs_background": "light"
     },
     "output_type": "display_data"
    }
   ],
   "source": [
    "# Check data size, dimensions, and channels\n",
    "print(train_np.shape)\n",
    "print(train_np.dtype)\n",
    "print(validate_np.shape)\n",
    "print(validate_np.dtype)\n",
    "print(test_train_np.shape)\n",
    "print(test_validate_np.shape)\n",
    "\n",
    "#print(train_np[0])\n",
    "plt.imshow(train_np[0].squeeze(), cmap='gray')"
   ]
  },
  {
   "cell_type": "code",
   "execution_count": 22,
   "metadata": {
    "code_folding": [],
    "colab": {
     "base_uri": "https://localhost:8080/",
     "height": 1302
    },
    "colab_type": "code",
    "executionInfo": {
     "elapsed": 763,
     "status": "ok",
     "timestamp": 1557125828945,
     "user": {
      "displayName": "Michael Nguyen",
      "photoUrl": "",
      "userId": "00567827782916811779"
     },
     "user_tz": 420
    },
    "id": "fCRYBlgAbihv",
    "outputId": "38ad37b1-ef40-452f-b6b8-05ca01192e8f"
   },
   "outputs": [
    {
     "name": "stdout",
     "output_type": "stream",
     "text": [
      "__________________________________________________________________________________________________\n",
      "Layer (type)                    Output Shape         Param #     Connected to                     \n",
      "==================================================================================================\n",
      "input_4 (InputLayer)            (None, 256, 256, 1)  0                                            \n",
      "__________________________________________________________________________________________________\n",
      "conv2d_46 (Conv2D)              (None, 256, 256, 16) 160         input_4[0][0]                    \n",
      "__________________________________________________________________________________________________\n",
      "dropout_22 (Dropout)            (None, 256, 256, 16) 0           conv2d_46[0][0]                  \n",
      "__________________________________________________________________________________________________\n",
      "conv2d_47 (Conv2D)              (None, 256, 256, 16) 2320        dropout_22[0][0]                 \n",
      "__________________________________________________________________________________________________\n",
      "max_pooling2d_10 (MaxPooling2D) (None, 128, 128, 16) 0           conv2d_47[0][0]                  \n",
      "__________________________________________________________________________________________________\n",
      "conv2d_48 (Conv2D)              (None, 128, 128, 32) 4640        max_pooling2d_10[0][0]           \n",
      "__________________________________________________________________________________________________\n",
      "dropout_23 (Dropout)            (None, 128, 128, 32) 0           conv2d_48[0][0]                  \n",
      "__________________________________________________________________________________________________\n",
      "conv2d_49 (Conv2D)              (None, 128, 128, 32) 9248        dropout_23[0][0]                 \n",
      "__________________________________________________________________________________________________\n",
      "max_pooling2d_11 (MaxPooling2D) (None, 64, 64, 32)   0           conv2d_49[0][0]                  \n",
      "__________________________________________________________________________________________________\n",
      "conv2d_50 (Conv2D)              (None, 64, 64, 64)   18496       max_pooling2d_11[0][0]           \n",
      "__________________________________________________________________________________________________\n",
      "dropout_24 (Dropout)            (None, 64, 64, 64)   0           conv2d_50[0][0]                  \n",
      "__________________________________________________________________________________________________\n",
      "conv2d_51 (Conv2D)              (None, 64, 64, 64)   36928       dropout_24[0][0]                 \n",
      "__________________________________________________________________________________________________\n",
      "max_pooling2d_12 (MaxPooling2D) (None, 32, 32, 64)   0           conv2d_51[0][0]                  \n",
      "__________________________________________________________________________________________________\n",
      "conv2d_52 (Conv2D)              (None, 32, 32, 128)  73856       max_pooling2d_12[0][0]           \n",
      "__________________________________________________________________________________________________\n",
      "dropout_25 (Dropout)            (None, 32, 32, 128)  0           conv2d_52[0][0]                  \n",
      "__________________________________________________________________________________________________\n",
      "conv2d_53 (Conv2D)              (None, 32, 32, 128)  147584      dropout_25[0][0]                 \n",
      "__________________________________________________________________________________________________\n",
      "conv2d_transpose_10 (Conv2DTran (None, 64, 64, 64)   32832       conv2d_53[0][0]                  \n",
      "__________________________________________________________________________________________________\n",
      "concatenate_10 (Concatenate)    (None, 64, 64, 128)  0           conv2d_51[0][0]                  \n",
      "                                                                 conv2d_transpose_10[0][0]        \n",
      "__________________________________________________________________________________________________\n",
      "conv2d_54 (Conv2D)              (None, 64, 64, 64)   73792       concatenate_10[0][0]             \n",
      "__________________________________________________________________________________________________\n",
      "dropout_26 (Dropout)            (None, 64, 64, 64)   0           conv2d_54[0][0]                  \n",
      "__________________________________________________________________________________________________\n",
      "conv2d_55 (Conv2D)              (None, 64, 64, 64)   36928       dropout_26[0][0]                 \n",
      "__________________________________________________________________________________________________\n",
      "conv2d_transpose_11 (Conv2DTran (None, 128, 128, 32) 8224        conv2d_55[0][0]                  \n",
      "__________________________________________________________________________________________________\n",
      "concatenate_11 (Concatenate)    (None, 128, 128, 64) 0           conv2d_49[0][0]                  \n",
      "                                                                 conv2d_transpose_11[0][0]        \n",
      "__________________________________________________________________________________________________\n",
      "conv2d_56 (Conv2D)              (None, 128, 128, 32) 18464       concatenate_11[0][0]             \n",
      "__________________________________________________________________________________________________\n",
      "dropout_27 (Dropout)            (None, 128, 128, 32) 0           conv2d_56[0][0]                  \n",
      "__________________________________________________________________________________________________\n",
      "conv2d_57 (Conv2D)              (None, 128, 128, 32) 9248        dropout_27[0][0]                 \n",
      "__________________________________________________________________________________________________\n",
      "conv2d_transpose_12 (Conv2DTran (None, 256, 256, 16) 2064        conv2d_57[0][0]                  \n",
      "__________________________________________________________________________________________________\n",
      "concatenate_12 (Concatenate)    (None, 256, 256, 32) 0           conv2d_46[0][0]                  \n",
      "                                                                 conv2d_transpose_12[0][0]        \n",
      "__________________________________________________________________________________________________\n",
      "conv2d_58 (Conv2D)              (None, 256, 256, 16) 4624        concatenate_12[0][0]             \n",
      "__________________________________________________________________________________________________\n",
      "dropout_28 (Dropout)            (None, 256, 256, 16) 0           conv2d_58[0][0]                  \n",
      "__________________________________________________________________________________________________\n",
      "conv2d_59 (Conv2D)              (None, 256, 256, 16) 2320        dropout_28[0][0]                 \n",
      "__________________________________________________________________________________________________\n",
      "conv2d_60 (Conv2D)              (None, 256, 256, 1)  17          conv2d_59[0][0]                  \n",
      "==================================================================================================\n",
      "Total params: 481,745\n",
      "Trainable params: 481,745\n",
      "Non-trainable params: 0\n",
      "__________________________________________________________________________________________________\n"
     ]
    }
   ],
   "source": [
    "# Autoencoder model\n",
    "\n",
    "drop_rate = 0.1\n",
    "en_kernel = 3\n",
    "en_strides = 1\n",
    "up_kernel = 2\n",
    "up_strides = 2\n",
    "de_kernel = 3\n",
    "de_strides = 1\n",
    "\n",
    "# Encoder\n",
    "input_img = Input(shape=(train_np.shape[1:]))\n",
    "\n",
    "conv1 = Conv2D(16, en_kernel, strides=en_strides, padding = 'same', activation='relu')(input_img)\n",
    "drop1 = Dropout(drop_rate)(conv1)\n",
    "concat1 = conv1\n",
    "conv1 = Conv2D(16, en_kernel, strides=en_strides, padding = 'same', activation='relu')(drop1)\n",
    "pool1 = MaxPooling2D((2,2), padding='same')(conv1)\n",
    "\n",
    "conv2 = Conv2D(32, en_kernel, strides=en_strides, padding='same', activation='relu')(pool1)\n",
    "drop2 = Dropout(drop_rate)(conv2)\n",
    "conv2 = Conv2D(32, en_kernel, strides=en_strides, padding='same', activation='relu')(drop2)\n",
    "concat2 = conv2\n",
    "pool2 = MaxPooling2D((2,2), padding='same')(conv2)\n",
    "\n",
    "conv3 = Conv2D(64, en_kernel, strides=en_strides, padding='same', activation='relu')(pool2)\n",
    "drop3 = Dropout(drop_rate)(conv3)\n",
    "conv3 = Conv2D(64, en_kernel, strides=en_strides, padding='same', activation='relu')(drop3)\n",
    "pool3 = MaxPooling2D((2,2), padding='same')(conv3)\n",
    "'''\n",
    "conv8 = Conv2D(128, en_kernel, strides=en_strides, padding='same', activation='relu')(pool3)\n",
    "drop8 = Dropout(drop_rate)(conv8)\n",
    "concat8 = conv8\n",
    "conv8 = Conv2D(128, en_kernel, strides=en_strides, padding='same', activation='relu')(drop8)\n",
    "pool8 = MaxPooling2D((2,2), padding='same')(conv8)\n",
    "'''\n",
    "# Bottleneck\n",
    "conv4 = Conv2D(128, (3,3), strides=en_strides, padding='same', activation='relu')(pool3)\n",
    "drop4 = Dropout(drop_rate)(conv4)\n",
    "conv4 = Conv2D(128, (3,3), strides=en_strides, padding='same', activation='relu')(drop4)\n",
    "\n",
    "# Decoder\n",
    "'''\n",
    "conv9 = Conv2DTranspose(128, de_kernel, strides=de_strides, padding='same')(conv4)\n",
    "up9 = Concatenate()([concat8, conv9])\n",
    "conv9 = Conv2D(128, de_kernel, strides=de_strides, padding='same', activation='relu')(up9)\n",
    "drop9 = Dropout(drop_rate)(conv9)\n",
    "conv9 = Conv2D(128, de_kernel, strides=de_strides, padding='same', activation='relu')(drop9)\n",
    "'''\n",
    "conv5 = Conv2DTranspose(64, up_kernel, strides=up_strides, padding='same')(conv4)\n",
    "up5 = Concatenate()([conv3, conv5])\n",
    "conv5 = Conv2D(64, de_kernel, strides=de_strides, padding='same', activation='relu')(up5)\n",
    "drop5 = Dropout(drop_rate)(conv5)\n",
    "conv5 = Conv2D(64, de_kernel, strides=de_strides, padding='same', activation='relu')(drop5)\n",
    "\n",
    "conv6 = Conv2DTranspose(32,  up_kernel, strides=up_strides, padding='same')(conv5)\n",
    "up6 = Concatenate()([concat2, conv6])\n",
    "conv6 = Conv2D(32,  de_kernel, strides=de_strides, padding='same', activation='relu')(up6)\n",
    "drop6 = Dropout(drop_rate)(conv6)\n",
    "conv6 = Conv2D(32, de_kernel, strides=de_strides, padding='same', activation='relu')(drop6)\n",
    "\n",
    "conv7 = Conv2DTranspose(16, up_kernel, strides=up_strides, padding='same')(conv6)\n",
    "up7 = Concatenate()([concat1, conv7])\n",
    "conv7 = Conv2D(16, de_kernel, strides=de_strides, padding='same', activation='relu')(up7)\n",
    "drop7 = Dropout(drop_rate)(conv7)\n",
    "conv7 = Conv2D(16, de_kernel, strides=de_strides, padding='same', activation='relu')(drop7)\n",
    "\n",
    "output_img = Conv2D(1, (1,1), activation='sigmoid')(conv7)\n",
    "\n",
    "auto = Model(inputs=[input_img], outputs=[output_img])\n",
    "auto.compile(optimizer='adam', loss='binary_crossentropy', metrics=['accuracy'])\n",
    "auto.summary()"
   ]
  },
  {
   "cell_type": "code",
   "execution_count": 0,
   "metadata": {
    "colab": {},
    "colab_type": "code",
    "id": "M99eYxnobihx"
   },
   "outputs": [],
   "source": [
    "auto = load_model(saved_model)\n",
    "#auto = load_weight(saved_weights)"
   ]
  },
  {
   "cell_type": "code",
   "execution_count": 0,
   "metadata": {
    "colab": {},
    "colab_type": "code",
    "id": "alqlLIS1E06u"
   },
   "outputs": [],
   "source": [
    "print(test_train_np.shape)\n",
    "print(test_val_np.shape)"
   ]
  },
  {
   "cell_type": "code",
   "execution_count": 17,
   "metadata": {
    "code_folding": [],
    "colab": {
     "base_uri": "https://localhost:8080/",
     "height": 558
    },
    "colab_type": "code",
    "executionInfo": {
     "elapsed": 374697,
     "status": "error",
     "timestamp": 1557124570382,
     "user": {
      "displayName": "Michael Nguyen",
      "photoUrl": "",
      "userId": "00567827782916811779"
     },
     "user_tz": 420
    },
    "id": "MvGBr0wDbihy",
    "outputId": "b485a3b4-c1d5-46da-d731-d23ac4978853"
   },
   "outputs": [
    {
     "name": "stdout",
     "output_type": "stream",
     "text": [
      "Train on 8657 samples, validate on 962 samples\n",
      "Epoch 1/100\n",
      "8657/8657 [==============================] - 95s 11ms/step - loss: 0.6775 - acc: 0.0295 - val_loss: 0.6742 - val_acc: 0.0305\n",
      "Epoch 2/100\n",
      "8657/8657 [==============================] - 93s 11ms/step - loss: 0.6771 - acc: 0.0295 - val_loss: 0.6736 - val_acc: 0.0305\n",
      "Epoch 3/100\n",
      "8657/8657 [==============================] - 93s 11ms/step - loss: 0.6766 - acc: 0.0295 - val_loss: 0.6745 - val_acc: 0.0305\n",
      "Epoch 4/100\n",
      "8640/8657 [============================>.] - ETA: 0s - loss: 0.6769 - acc: 0.0296"
     ]
    },
    {
     "ename": "KeyboardInterrupt",
     "evalue": "ignored",
     "output_type": "error",
     "traceback": [
      "\u001b[0;31m---------------------------------------------------------------------------\u001b[0m",
      "\u001b[0;31mKeyboardInterrupt\u001b[0m                         Traceback (most recent call last)",
      "\u001b[0;32m<ipython-input-17-cb5db3e7cccd>\u001b[0m in \u001b[0;36m<module>\u001b[0;34m()\u001b[0m\n\u001b[1;32m      1\u001b[0m \u001b[0msteps\u001b[0m \u001b[0;34m=\u001b[0m \u001b[0mstep_size\u001b[0m\u001b[0;34m(\u001b[0m\u001b[0mtrain_path\u001b[0m\u001b[0;34m,\u001b[0m \u001b[0mbatch_size\u001b[0m\u001b[0;34m)\u001b[0m\u001b[0;34m\u001b[0m\u001b[0;34m\u001b[0m\u001b[0m\n\u001b[1;32m      2\u001b[0m \u001b[0;34m\u001b[0m\u001b[0m\n\u001b[0;32m----> 3\u001b[0;31m \u001b[0mauto\u001b[0m\u001b[0;34m.\u001b[0m\u001b[0mfit\u001b[0m\u001b[0;34m(\u001b[0m\u001b[0mtrain_np\u001b[0m\u001b[0;34m,\u001b[0m \u001b[0mvalidate_np\u001b[0m\u001b[0;34m,\u001b[0m \u001b[0mepochs\u001b[0m\u001b[0;34m=\u001b[0m\u001b[0;36m100\u001b[0m\u001b[0;34m,\u001b[0m \u001b[0mverbose\u001b[0m\u001b[0;34m=\u001b[0m\u001b[0;36m1\u001b[0m\u001b[0;34m,\u001b[0m \u001b[0mshuffle\u001b[0m\u001b[0;34m=\u001b[0m\u001b[0;32mTrue\u001b[0m\u001b[0;34m,\u001b[0m \u001b[0mvalidation_split\u001b[0m\u001b[0;34m=\u001b[0m\u001b[0;36m0.1\u001b[0m\u001b[0;34m)\u001b[0m\u001b[0;34m\u001b[0m\u001b[0;34m\u001b[0m\u001b[0m\n\u001b[0m\u001b[1;32m      4\u001b[0m '''\n\u001b[1;32m      5\u001b[0m auto.fit(train_np, validate_np, validation_split=0.1, epochs=20, verbose=1, shuffle=True, validation_data=(test_train_np, test_val_np), \n",
      "\u001b[0;32m/usr/local/lib/python3.6/dist-packages/keras/engine/training.py\u001b[0m in \u001b[0;36mfit\u001b[0;34m(self, x, y, batch_size, epochs, verbose, callbacks, validation_split, validation_data, shuffle, class_weight, sample_weight, initial_epoch, steps_per_epoch, validation_steps, **kwargs)\u001b[0m\n\u001b[1;32m   1037\u001b[0m                                         \u001b[0minitial_epoch\u001b[0m\u001b[0;34m=\u001b[0m\u001b[0minitial_epoch\u001b[0m\u001b[0;34m,\u001b[0m\u001b[0;34m\u001b[0m\u001b[0;34m\u001b[0m\u001b[0m\n\u001b[1;32m   1038\u001b[0m                                         \u001b[0msteps_per_epoch\u001b[0m\u001b[0;34m=\u001b[0m\u001b[0msteps_per_epoch\u001b[0m\u001b[0;34m,\u001b[0m\u001b[0;34m\u001b[0m\u001b[0;34m\u001b[0m\u001b[0m\n\u001b[0;32m-> 1039\u001b[0;31m                                         validation_steps=validation_steps)\n\u001b[0m\u001b[1;32m   1040\u001b[0m \u001b[0;34m\u001b[0m\u001b[0m\n\u001b[1;32m   1041\u001b[0m     def evaluate(self, x=None, y=None,\n",
      "\u001b[0;32m/usr/local/lib/python3.6/dist-packages/keras/engine/training_arrays.py\u001b[0m in \u001b[0;36mfit_loop\u001b[0;34m(model, f, ins, out_labels, batch_size, epochs, verbose, callbacks, val_f, val_ins, shuffle, callback_metrics, initial_epoch, steps_per_epoch, validation_steps)\u001b[0m\n\u001b[1;32m    210\u001b[0m                         val_outs = test_loop(model, val_f, val_ins,\n\u001b[1;32m    211\u001b[0m                                              \u001b[0mbatch_size\u001b[0m\u001b[0;34m=\u001b[0m\u001b[0mbatch_size\u001b[0m\u001b[0;34m,\u001b[0m\u001b[0;34m\u001b[0m\u001b[0;34m\u001b[0m\u001b[0m\n\u001b[0;32m--> 212\u001b[0;31m                                              verbose=0)\n\u001b[0m\u001b[1;32m    213\u001b[0m                         \u001b[0mval_outs\u001b[0m \u001b[0;34m=\u001b[0m \u001b[0mto_list\u001b[0m\u001b[0;34m(\u001b[0m\u001b[0mval_outs\u001b[0m\u001b[0;34m)\u001b[0m\u001b[0;34m\u001b[0m\u001b[0;34m\u001b[0m\u001b[0m\n\u001b[1;32m    214\u001b[0m                         \u001b[0;31m# Same labels assumed.\u001b[0m\u001b[0;34m\u001b[0m\u001b[0;34m\u001b[0m\u001b[0;34m\u001b[0m\u001b[0m\n",
      "\u001b[0;32m/usr/local/lib/python3.6/dist-packages/keras/engine/training_arrays.py\u001b[0m in \u001b[0;36mtest_loop\u001b[0;34m(model, f, ins, batch_size, verbose, steps)\u001b[0m\n\u001b[1;32m    390\u001b[0m                 \u001b[0mins_batch\u001b[0m\u001b[0;34m[\u001b[0m\u001b[0mi\u001b[0m\u001b[0;34m]\u001b[0m \u001b[0;34m=\u001b[0m \u001b[0mins_batch\u001b[0m\u001b[0;34m[\u001b[0m\u001b[0mi\u001b[0m\u001b[0;34m]\u001b[0m\u001b[0;34m.\u001b[0m\u001b[0mtoarray\u001b[0m\u001b[0;34m(\u001b[0m\u001b[0;34m)\u001b[0m\u001b[0;34m\u001b[0m\u001b[0;34m\u001b[0m\u001b[0m\n\u001b[1;32m    391\u001b[0m \u001b[0;34m\u001b[0m\u001b[0m\n\u001b[0;32m--> 392\u001b[0;31m             \u001b[0mbatch_outs\u001b[0m \u001b[0;34m=\u001b[0m \u001b[0mf\u001b[0m\u001b[0;34m(\u001b[0m\u001b[0mins_batch\u001b[0m\u001b[0;34m)\u001b[0m\u001b[0;34m\u001b[0m\u001b[0;34m\u001b[0m\u001b[0m\n\u001b[0m\u001b[1;32m    393\u001b[0m             \u001b[0;32mif\u001b[0m \u001b[0misinstance\u001b[0m\u001b[0;34m(\u001b[0m\u001b[0mbatch_outs\u001b[0m\u001b[0;34m,\u001b[0m \u001b[0mlist\u001b[0m\u001b[0;34m)\u001b[0m\u001b[0;34m:\u001b[0m\u001b[0;34m\u001b[0m\u001b[0;34m\u001b[0m\u001b[0m\n\u001b[1;32m    394\u001b[0m                 \u001b[0;32mif\u001b[0m \u001b[0mbatch_index\u001b[0m \u001b[0;34m==\u001b[0m \u001b[0;36m0\u001b[0m\u001b[0;34m:\u001b[0m\u001b[0;34m\u001b[0m\u001b[0;34m\u001b[0m\u001b[0m\n",
      "\u001b[0;32m/usr/local/lib/python3.6/dist-packages/keras/backend/tensorflow_backend.py\u001b[0m in \u001b[0;36m__call__\u001b[0;34m(self, inputs)\u001b[0m\n\u001b[1;32m   2713\u001b[0m                 \u001b[0;32mreturn\u001b[0m \u001b[0mself\u001b[0m\u001b[0;34m.\u001b[0m\u001b[0m_legacy_call\u001b[0m\u001b[0;34m(\u001b[0m\u001b[0minputs\u001b[0m\u001b[0;34m)\u001b[0m\u001b[0;34m\u001b[0m\u001b[0;34m\u001b[0m\u001b[0m\n\u001b[1;32m   2714\u001b[0m \u001b[0;34m\u001b[0m\u001b[0m\n\u001b[0;32m-> 2715\u001b[0;31m             \u001b[0;32mreturn\u001b[0m \u001b[0mself\u001b[0m\u001b[0;34m.\u001b[0m\u001b[0m_call\u001b[0m\u001b[0;34m(\u001b[0m\u001b[0minputs\u001b[0m\u001b[0;34m)\u001b[0m\u001b[0;34m\u001b[0m\u001b[0;34m\u001b[0m\u001b[0m\n\u001b[0m\u001b[1;32m   2716\u001b[0m         \u001b[0;32melse\u001b[0m\u001b[0;34m:\u001b[0m\u001b[0;34m\u001b[0m\u001b[0;34m\u001b[0m\u001b[0m\n\u001b[1;32m   2717\u001b[0m             \u001b[0;32mif\u001b[0m \u001b[0mpy_any\u001b[0m\u001b[0;34m(\u001b[0m\u001b[0mis_tensor\u001b[0m\u001b[0;34m(\u001b[0m\u001b[0mx\u001b[0m\u001b[0;34m)\u001b[0m \u001b[0;32mfor\u001b[0m \u001b[0mx\u001b[0m \u001b[0;32min\u001b[0m \u001b[0minputs\u001b[0m\u001b[0;34m)\u001b[0m\u001b[0;34m:\u001b[0m\u001b[0;34m\u001b[0m\u001b[0;34m\u001b[0m\u001b[0m\n",
      "\u001b[0;32m/usr/local/lib/python3.6/dist-packages/keras/backend/tensorflow_backend.py\u001b[0m in \u001b[0;36m_call\u001b[0;34m(self, inputs)\u001b[0m\n\u001b[1;32m   2673\u001b[0m             \u001b[0mfetched\u001b[0m \u001b[0;34m=\u001b[0m \u001b[0mself\u001b[0m\u001b[0;34m.\u001b[0m\u001b[0m_callable_fn\u001b[0m\u001b[0;34m(\u001b[0m\u001b[0;34m*\u001b[0m\u001b[0marray_vals\u001b[0m\u001b[0;34m,\u001b[0m \u001b[0mrun_metadata\u001b[0m\u001b[0;34m=\u001b[0m\u001b[0mself\u001b[0m\u001b[0;34m.\u001b[0m\u001b[0mrun_metadata\u001b[0m\u001b[0;34m)\u001b[0m\u001b[0;34m\u001b[0m\u001b[0;34m\u001b[0m\u001b[0m\n\u001b[1;32m   2674\u001b[0m         \u001b[0;32melse\u001b[0m\u001b[0;34m:\u001b[0m\u001b[0;34m\u001b[0m\u001b[0;34m\u001b[0m\u001b[0m\n\u001b[0;32m-> 2675\u001b[0;31m             \u001b[0mfetched\u001b[0m \u001b[0;34m=\u001b[0m \u001b[0mself\u001b[0m\u001b[0;34m.\u001b[0m\u001b[0m_callable_fn\u001b[0m\u001b[0;34m(\u001b[0m\u001b[0;34m*\u001b[0m\u001b[0marray_vals\u001b[0m\u001b[0;34m)\u001b[0m\u001b[0;34m\u001b[0m\u001b[0;34m\u001b[0m\u001b[0m\n\u001b[0m\u001b[1;32m   2676\u001b[0m         \u001b[0;32mreturn\u001b[0m \u001b[0mfetched\u001b[0m\u001b[0;34m[\u001b[0m\u001b[0;34m:\u001b[0m\u001b[0mlen\u001b[0m\u001b[0;34m(\u001b[0m\u001b[0mself\u001b[0m\u001b[0;34m.\u001b[0m\u001b[0moutputs\u001b[0m\u001b[0;34m)\u001b[0m\u001b[0;34m]\u001b[0m\u001b[0;34m\u001b[0m\u001b[0;34m\u001b[0m\u001b[0m\n\u001b[1;32m   2677\u001b[0m \u001b[0;34m\u001b[0m\u001b[0m\n",
      "\u001b[0;32m/usr/local/lib/python3.6/dist-packages/tensorflow/python/client/session.py\u001b[0m in \u001b[0;36m__call__\u001b[0;34m(self, *args, **kwargs)\u001b[0m\n\u001b[1;32m   1437\u001b[0m           ret = tf_session.TF_SessionRunCallable(\n\u001b[1;32m   1438\u001b[0m               \u001b[0mself\u001b[0m\u001b[0;34m.\u001b[0m\u001b[0m_session\u001b[0m\u001b[0;34m.\u001b[0m\u001b[0m_session\u001b[0m\u001b[0;34m,\u001b[0m \u001b[0mself\u001b[0m\u001b[0;34m.\u001b[0m\u001b[0m_handle\u001b[0m\u001b[0;34m,\u001b[0m \u001b[0margs\u001b[0m\u001b[0;34m,\u001b[0m \u001b[0mstatus\u001b[0m\u001b[0;34m,\u001b[0m\u001b[0;34m\u001b[0m\u001b[0;34m\u001b[0m\u001b[0m\n\u001b[0;32m-> 1439\u001b[0;31m               run_metadata_ptr)\n\u001b[0m\u001b[1;32m   1440\u001b[0m         \u001b[0;32mif\u001b[0m \u001b[0mrun_metadata\u001b[0m\u001b[0;34m:\u001b[0m\u001b[0;34m\u001b[0m\u001b[0;34m\u001b[0m\u001b[0m\n\u001b[1;32m   1441\u001b[0m           \u001b[0mproto_data\u001b[0m \u001b[0;34m=\u001b[0m \u001b[0mtf_session\u001b[0m\u001b[0;34m.\u001b[0m\u001b[0mTF_GetBuffer\u001b[0m\u001b[0;34m(\u001b[0m\u001b[0mrun_metadata_ptr\u001b[0m\u001b[0;34m)\u001b[0m\u001b[0;34m\u001b[0m\u001b[0;34m\u001b[0m\u001b[0m\n",
      "\u001b[0;31mKeyboardInterrupt\u001b[0m: "
     ]
    }
   ],
   "source": [
    "# fit(training data, label data, ...)\n",
    "steps = step_size(train_path, batch_size)\n",
    "tensorboard = TensorBoard(log_dir=\"./logs/{}\".format(time()))\n",
    "\n",
    "auto.fit(train_np, validate_np, epochs=20, verbose=1, shuffle=True, validation_split=0.1, callbacks=[tensorboard])\n",
    "acc = auto.evaluate(test_train_np, test_validate_np)\n",
    "print(\"Test Accuracy: \", acc)\n",
    "\n",
    "'''\n",
    "auto.fit(train_np, validate_np, validation_split=0.1, epochs=20, verbose=1, shuffle=True, validation_data=(test_train_np, test_val_np), \n",
    "        steps_per_epoch=epoch_steps(train_path, batch_size),\n",
    "        callbacks = EarlyStopping(min_delta=0.001, patience=5))\n",
    "        \n",
    "auto.fit(train_np, validate_np, validation_split=0.1, epochs=epoch_size, batch_size=batch_size)\n",
    "'''"
   ]
  },
  {
   "cell_type": "code",
   "execution_count": 0,
   "metadata": {
    "colab": {},
    "colab_type": "code",
    "id": "3dqkCOW_bih0"
   },
   "outputs": [],
   "source": [
    "auto.save(os.path.join(models_path, \"saved_model3.h5\"))\n",
    "#auto.save((os.path.join(models_path, saved_weights))"
   ]
  },
  {
   "cell_type": "code",
   "execution_count": 0,
   "metadata": {
    "colab": {},
    "colab_type": "code",
    "id": "b1-OwaAEbih3"
   },
   "outputs": [],
   "source": [
    "def get_predicted(test_path):\n",
    "    predicted_path = create_dir(\"predicted_images/\")\n",
    "    predicted_gray = auto.predict(train_np)\n",
    "    '''\n",
    "    for count in range(0, predicted_gray.shape[0]):\n",
    "        image_np = predicted_gray[count] * 255\n",
    "        image_np = image_np.astype('int')\n",
    "        cv2.imwrite(save_path(predicted_path, str(count), \"_PR.jpg\"), image_np)\n",
    "        '''\n",
    "    image_np = predicted_gray[0] * 255\n",
    "    image_np = image_np.astype('int')\n",
    "    cv2.imwrite(os.path.join(predicted_path, \"dr_0-1_epoch_100.jpg\"), image_np)\n",
    "    \n",
    "get_predicted(test_train_path)"
   ]
  },
  {
   "cell_type": "code",
   "execution_count": 0,
   "metadata": {
    "colab": {},
    "colab_type": "code",
    "id": "gyw-LTXxbih5"
   },
   "outputs": [],
   "source": [
    "plt.imshow(train_np[0].squeeze(), cmap=\"gray\")"
   ]
  },
  {
   "cell_type": "code",
   "execution_count": 0,
   "metadata": {
    "colab": {},
    "colab_type": "code",
    "id": "qyYX2EzmJ2Ne"
   },
   "outputs": [],
   "source": [
    "image = Image.open(\"bw_test_images/9068_SQ-BW.jpg\")\n",
    "image = np.array(image)\n",
    "image = image.astype('float32')\n",
    "image = image.reshape(1, size, size, channels)\n",
    "image = image/255\n",
    "image_np = auto.predict(image)\n",
    "cv2.imwrite(save_path(\"predicted_images/\", str(8), \"_PR.jpg\"), image_np)"
   ]
  },
  {
   "cell_type": "code",
   "execution_count": 0,
   "metadata": {
    "colab": {},
    "colab_type": "code",
    "id": "63W5o5cAE8vY"
   },
   "outputs": [],
   "source": []
  }
 ],
 "metadata": {
  "accelerator": "GPU",
  "colab": {
   "collapsed_sections": [],
   "name": "CNNColorization.ipynb",
   "provenance": [],
   "version": "0.3.2"
  },
  "kernelspec": {
   "display_name": "Python 3",
   "language": "python",
   "name": "python3"
  },
  "language_info": {
   "codemirror_mode": {
    "name": "ipython",
    "version": 3
   },
   "file_extension": ".py",
   "mimetype": "text/x-python",
   "name": "python",
   "nbconvert_exporter": "python",
   "pygments_lexer": "ipython3",
   "version": "3.7.3"
  }
 },
 "nbformat": 4,
 "nbformat_minor": 1
}
