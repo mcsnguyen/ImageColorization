{
 "cells": [
  {
   "cell_type": "code",
   "execution_count": 1,
   "metadata": {},
   "outputs": [
    {
     "name": "stderr",
     "output_type": "stream",
     "text": [
      "Using TensorFlow backend.\n"
     ]
    }
   ],
   "source": [
    "import os\n",
    "import cv2\n",
    "import h5py\n",
    "import keras\n",
    "import numpy as np\n",
    "import matplotlib.pyplot as plt\n",
    "\n",
    "from PIL import Image\n",
    "from keras.models import Sequential, load_model\n",
    "from keras.layers import Conv2D, UpSampling2D, MaxPooling2D, Dropout\n",
    "from keras.callbacks import EarlyStopping"
   ]
  },
  {
   "cell_type": "code",
   "execution_count": 2,
   "metadata": {},
   "outputs": [],
   "source": [
    "size = 256\n",
    "channels = 1\n",
    "batch_size = 100\n",
    "\n",
    "dataset_path = \"images/0\"\n",
    "resized_path = \"squared_images/\"\n",
    "train_path = \"bw_images/\"\n",
    "validate_path = \"gray_images/\"\n",
    "test_path = \"test/\"\n",
    "\n",
    "models_path = \"saved_parameters/\"\n",
    "saved_model = \"saved_model.h5\"\n",
    "saved_weights = \"saved_weights.h5\""
   ]
  },
  {
   "cell_type": "code",
   "execution_count": 3,
   "metadata": {
    "scrolled": true
   },
   "outputs": [],
   "source": [
    "# Create directory\n",
    "def create_dir(folder_name):\n",
    "    folder = os.path.join(folder_name)\n",
    "    if not os.path.exists(folder):\n",
    "        os.mkdir(folder)\n",
    "    return folder\n",
    "                          \n",
    "def save_path(dir_path, file, appended_name):\n",
    "    file_base = os.path.basename(file)\n",
    "    file_name, file_ext = os.path.splitext(file_base)   \n",
    "    return dir_path + file_name + appended_name + file_ext\n",
    "            \n",
    "# Create and save black and white images\n",
    "def convert_RGB2BW(dataset_path):\n",
    "    bw_path = create_dir(\"bw_images/\")\n",
    "    grayscale_path = create_dir(\"gray_images/\")\n",
    "    for file in os.listdir(dataset_path):\n",
    "        image = Image.open(os.path.join(dataset_path, file))\n",
    "        \n",
    "        # Convert image to grayscale based on Lighting\n",
    "        grayscale = image.convert('L')\n",
    "        grayscale = np.asarray(grayscale).copy()\n",
    "        gray_image = Image.fromarray(grayscale)\n",
    "        gray_image.save(save_path(grayscale_path, file, \"_GR\"))\n",
    "        \n",
    "        # Turn darker pixels black (0) and lighter pixels white (255)\n",
    "        grayscale[grayscale < 128] = 0\n",
    "        grayscale[grayscale >= 128] = 255\n",
    "        bw_image = Image.fromarray(grayscale)\n",
    "        bw_image.save(save_path(bw_path, file, \"_BW\"))\n",
    "        \n",
    "# Preprocess images: creates a white image and pastes data into white image\n",
    "def square_images(dataset_path, size):\n",
    "    dir_path = create_dir(\"squared_images/\")\n",
    "    for file in os.listdir(dataset_path):\n",
    "        image = Image.open(os.path.join(dataset_path, file))\n",
    "        width, height = image.size\n",
    "        if(width != height and width != size):\n",
    "            squared_image = image.resize((size,size), Image.LANCZOS)\n",
    "            #squared_image.paste(image)\n",
    "            squared_image.save(save_path(dir_path, file, \"_SQ\"))\n",
    "                          "
   ]
  },
  {
   "cell_type": "code",
   "execution_count": 32,
   "metadata": {},
   "outputs": [],
   "source": [
    "# Load training and validating images into array\n",
    "def load_data(dir_path):\n",
    "    data_arr = []\n",
    "    for image in os.listdir(dir_path):\n",
    "        img_read = Image.open(os.path.join(dir_path, image))\n",
    "        data_arr.append(np.asarray(img_read))\n",
    "    return data_arr\n",
    "\n",
    "def test_load(dir_path):\n",
    "    data_arr = []\n",
    "    for count, image in zip(range(1, 5), os.listdir(dir_path)):\n",
    "        img_read = Image.open(os.path.join(dir_path, image))\n",
    "        data_arr.append(np.asarray(img_read))\n",
    "    return data_arr\n",
    "\n",
    "# Calculate epoch size to traverse all training data\n",
    "def epoch_size(dir_path, batch_size):\n",
    "    counter = 0\n",
    "    for file in os.listdir(dir_path):\n",
    "        if os.path.isfile(os.path.join(dir_path, file)):\n",
    "            counter += 1\n",
    "    return counter/batch_size"
   ]
  },
  {
   "cell_type": "code",
   "execution_count": null,
   "metadata": {},
   "outputs": [],
   "source": [
    "# Resize Image\n",
    "square_images(dataset_path, size)"
   ]
  },
  {
   "cell_type": "code",
   "execution_count": null,
   "metadata": {
    "scrolled": false
   },
   "outputs": [],
   "source": [
    "# Image Preprocessing\n",
    "convert_RGB2BW(resized_path)"
   ]
  },
  {
   "cell_type": "code",
   "execution_count": 33,
   "metadata": {},
   "outputs": [
    {
     "name": "stdout",
     "output_type": "stream",
     "text": [
      "(256, 256)\n",
      "(256, 256)\n",
      "(256, 256)\n",
      "(256, 256)\n",
      "(256, 256)\n",
      "(256, 256)\n",
      "(256, 256)\n",
      "(256, 256)\n"
     ]
    }
   ],
   "source": [
    "# Load images into arrays\n",
    "'''\n",
    "train_arr = load_data(train_path)\n",
    "validate_arr = load_data(validate_path)\n",
    "'''\n",
    "train_arr = test_load(train_path)\n",
    "validate_arr = test_load(validate_path)\n",
    "\n",
    "# Convert image array into numpy array\n",
    "train_np = np.array(train_arr)\n",
    "validate_np = np.array(validate_arr)\n",
    "\n",
    "# Normalize\n",
    "train_np = train_np/255\n",
    "validate_np = validate_np/255"
   ]
  },
  {
   "cell_type": "code",
   "execution_count": null,
   "metadata": {},
   "outputs": [],
   "source": []
  },
  {
   "cell_type": "code",
   "execution_count": 22,
   "metadata": {
    "scrolled": true
   },
   "outputs": [
    {
     "name": "stdout",
     "output_type": "stream",
     "text": [
      "(9, 256, 256)\n",
      "(9, 256, 256)\n"
     ]
    }
   ],
   "source": [
    "# Check data size, dimensions, and channels\n",
    "print(train_np.shape)\n",
    "print(validate_np.shape)"
   ]
  },
  {
   "cell_type": "code",
   "execution_count": 28,
   "metadata": {},
   "outputs": [
    {
     "name": "stdout",
     "output_type": "stream",
     "text": [
      "3\n"
     ]
    },
    {
     "ename": "TypeError",
     "evalue": "Invalid dimensions for image data",
     "output_type": "error",
     "traceback": [
      "\u001b[1;31m---------------------------------------------------------------------------\u001b[0m",
      "\u001b[1;31mTypeError\u001b[0m                                 Traceback (most recent call last)",
      "\u001b[1;32m<ipython-input-28-0b5e28dd91e3>\u001b[0m in \u001b[0;36m<module>\u001b[1;34m\u001b[0m\n\u001b[0;32m      2\u001b[0m \u001b[0mx\u001b[0m \u001b[1;33m=\u001b[0m \u001b[0mnp\u001b[0m\u001b[1;33m.\u001b[0m\u001b[0msqueeze\u001b[0m\u001b[1;33m(\u001b[0m\u001b[0mtrain_np\u001b[0m\u001b[1;33m)\u001b[0m\u001b[1;33m\u001b[0m\u001b[1;33m\u001b[0m\u001b[0m\n\u001b[0;32m      3\u001b[0m \u001b[0mprint\u001b[0m\u001b[1;33m(\u001b[0m\u001b[0mx\u001b[0m\u001b[1;33m.\u001b[0m\u001b[0mndim\u001b[0m\u001b[1;33m)\u001b[0m\u001b[1;33m\u001b[0m\u001b[1;33m\u001b[0m\u001b[0m\n\u001b[1;32m----> 4\u001b[1;33m \u001b[0mplt\u001b[0m\u001b[1;33m.\u001b[0m\u001b[0mimshow\u001b[0m\u001b[1;33m(\u001b[0m\u001b[0mx\u001b[0m\u001b[1;33m)\u001b[0m\u001b[1;33m\u001b[0m\u001b[1;33m\u001b[0m\u001b[0m\n\u001b[0m\u001b[0;32m      5\u001b[0m \u001b[0mplt\u001b[0m\u001b[1;33m.\u001b[0m\u001b[0mshow\u001b[0m\u001b[1;33m(\u001b[0m\u001b[1;33m)\u001b[0m\u001b[1;33m\u001b[0m\u001b[1;33m\u001b[0m\u001b[0m\n",
      "\u001b[1;32m~\\Anaconda3\\envs\\python37\\lib\\site-packages\\matplotlib\\pyplot.py\u001b[0m in \u001b[0;36mimshow\u001b[1;34m(X, cmap, norm, aspect, interpolation, alpha, vmin, vmax, origin, extent, shape, filternorm, filterrad, imlim, resample, url, data, **kwargs)\u001b[0m\n\u001b[0;32m   2697\u001b[0m         \u001b[0mfilternorm\u001b[0m\u001b[1;33m=\u001b[0m\u001b[0mfilternorm\u001b[0m\u001b[1;33m,\u001b[0m \u001b[0mfilterrad\u001b[0m\u001b[1;33m=\u001b[0m\u001b[0mfilterrad\u001b[0m\u001b[1;33m,\u001b[0m \u001b[0mimlim\u001b[0m\u001b[1;33m=\u001b[0m\u001b[0mimlim\u001b[0m\u001b[1;33m,\u001b[0m\u001b[1;33m\u001b[0m\u001b[1;33m\u001b[0m\u001b[0m\n\u001b[0;32m   2698\u001b[0m         resample=resample, url=url, **({\"data\": data} if data is not\n\u001b[1;32m-> 2699\u001b[1;33m         None else {}), **kwargs)\n\u001b[0m\u001b[0;32m   2700\u001b[0m     \u001b[0msci\u001b[0m\u001b[1;33m(\u001b[0m\u001b[0m__ret\u001b[0m\u001b[1;33m)\u001b[0m\u001b[1;33m\u001b[0m\u001b[1;33m\u001b[0m\u001b[0m\n\u001b[0;32m   2701\u001b[0m     \u001b[1;32mreturn\u001b[0m \u001b[0m__ret\u001b[0m\u001b[1;33m\u001b[0m\u001b[1;33m\u001b[0m\u001b[0m\n",
      "\u001b[1;32m~\\Anaconda3\\envs\\python37\\lib\\site-packages\\matplotlib\\__init__.py\u001b[0m in \u001b[0;36minner\u001b[1;34m(ax, data, *args, **kwargs)\u001b[0m\n\u001b[0;32m   1808\u001b[0m                         \u001b[1;34m\"the Matplotlib list!)\"\u001b[0m \u001b[1;33m%\u001b[0m \u001b[1;33m(\u001b[0m\u001b[0mlabel_namer\u001b[0m\u001b[1;33m,\u001b[0m \u001b[0mfunc\u001b[0m\u001b[1;33m.\u001b[0m\u001b[0m__name__\u001b[0m\u001b[1;33m)\u001b[0m\u001b[1;33m,\u001b[0m\u001b[1;33m\u001b[0m\u001b[1;33m\u001b[0m\u001b[0m\n\u001b[0;32m   1809\u001b[0m                         RuntimeWarning, stacklevel=2)\n\u001b[1;32m-> 1810\u001b[1;33m             \u001b[1;32mreturn\u001b[0m \u001b[0mfunc\u001b[0m\u001b[1;33m(\u001b[0m\u001b[0max\u001b[0m\u001b[1;33m,\u001b[0m \u001b[1;33m*\u001b[0m\u001b[0margs\u001b[0m\u001b[1;33m,\u001b[0m \u001b[1;33m**\u001b[0m\u001b[0mkwargs\u001b[0m\u001b[1;33m)\u001b[0m\u001b[1;33m\u001b[0m\u001b[1;33m\u001b[0m\u001b[0m\n\u001b[0m\u001b[0;32m   1811\u001b[0m \u001b[1;33m\u001b[0m\u001b[0m\n\u001b[0;32m   1812\u001b[0m         inner.__doc__ = _add_data_doc(inner.__doc__,\n",
      "\u001b[1;32m~\\Anaconda3\\envs\\python37\\lib\\site-packages\\matplotlib\\axes\\_axes.py\u001b[0m in \u001b[0;36mimshow\u001b[1;34m(self, X, cmap, norm, aspect, interpolation, alpha, vmin, vmax, origin, extent, shape, filternorm, filterrad, imlim, resample, url, **kwargs)\u001b[0m\n\u001b[0;32m   5492\u001b[0m                               resample=resample, **kwargs)\n\u001b[0;32m   5493\u001b[0m \u001b[1;33m\u001b[0m\u001b[0m\n\u001b[1;32m-> 5494\u001b[1;33m         \u001b[0mim\u001b[0m\u001b[1;33m.\u001b[0m\u001b[0mset_data\u001b[0m\u001b[1;33m(\u001b[0m\u001b[0mX\u001b[0m\u001b[1;33m)\u001b[0m\u001b[1;33m\u001b[0m\u001b[1;33m\u001b[0m\u001b[0m\n\u001b[0m\u001b[0;32m   5495\u001b[0m         \u001b[0mim\u001b[0m\u001b[1;33m.\u001b[0m\u001b[0mset_alpha\u001b[0m\u001b[1;33m(\u001b[0m\u001b[0malpha\u001b[0m\u001b[1;33m)\u001b[0m\u001b[1;33m\u001b[0m\u001b[1;33m\u001b[0m\u001b[0m\n\u001b[0;32m   5496\u001b[0m         \u001b[1;32mif\u001b[0m \u001b[0mim\u001b[0m\u001b[1;33m.\u001b[0m\u001b[0mget_clip_path\u001b[0m\u001b[1;33m(\u001b[0m\u001b[1;33m)\u001b[0m \u001b[1;32mis\u001b[0m \u001b[1;32mNone\u001b[0m\u001b[1;33m:\u001b[0m\u001b[1;33m\u001b[0m\u001b[1;33m\u001b[0m\u001b[0m\n",
      "\u001b[1;32m~\\Anaconda3\\envs\\python37\\lib\\site-packages\\matplotlib\\image.py\u001b[0m in \u001b[0;36mset_data\u001b[1;34m(self, A)\u001b[0m\n\u001b[0;32m    636\u001b[0m         if not (self._A.ndim == 2\n\u001b[0;32m    637\u001b[0m                 or self._A.ndim == 3 and self._A.shape[-1] in [3, 4]):\n\u001b[1;32m--> 638\u001b[1;33m             \u001b[1;32mraise\u001b[0m \u001b[0mTypeError\u001b[0m\u001b[1;33m(\u001b[0m\u001b[1;34m\"Invalid dimensions for image data\"\u001b[0m\u001b[1;33m)\u001b[0m\u001b[1;33m\u001b[0m\u001b[1;33m\u001b[0m\u001b[0m\n\u001b[0m\u001b[0;32m    639\u001b[0m \u001b[1;33m\u001b[0m\u001b[0m\n\u001b[0;32m    640\u001b[0m         \u001b[1;32mif\u001b[0m \u001b[0mself\u001b[0m\u001b[1;33m.\u001b[0m\u001b[0m_A\u001b[0m\u001b[1;33m.\u001b[0m\u001b[0mndim\u001b[0m \u001b[1;33m==\u001b[0m \u001b[1;36m3\u001b[0m\u001b[1;33m:\u001b[0m\u001b[1;33m\u001b[0m\u001b[1;33m\u001b[0m\u001b[0m\n",
      "\u001b[1;31mTypeError\u001b[0m: Invalid dimensions for image data"
     ]
    },
    {
     "data": {
      "image/png": "[encoded data removed]",
      "text/plain": [
       "<Figure size 432x288 with 1 Axes>"
      ]
     },
     "metadata": {
      "needs_background": "light"
     },
     "output_type": "display_data"
    }
   ],
   "source": [
    "# Removes extra numpy dimension so image can be plotted\n",
    "x = np.squeeze(train_np)\n",
    "print(x.ndim)\n",
    "plt.imshow(x)\n",
    "plt.show()"
   ]
  },
  {
   "cell_type": "code",
   "execution_count": null,
   "metadata": {},
   "outputs": [],
   "source": [
    "# Autoencoder model\n",
    "auto = Sequential()\n",
    "auto.add(Input(shape=(size, size, channels)))\n",
    "\n",
    "# Encoder - smaller filters, larger feature map\n",
    "auto.add(Conv2D(16, (3,3), activation=\"relu\", input_shape(size, size, 1)))\n",
    "auto.add(MaxPooling2D((2,2), padding = \"same\"))\n",
    "auto.add(Conv2D(32, (3,3) activation=\"relu\"))\n",
    "auto.add(MaxPooling2D((2,2), padding = \"same\"))\n",
    "auto.add(Conv2D(64, (3,3) activation=\"relu\"))\n",
    "auto.add(MaxPooling2D((2,2), padding = \"same\"))\n",
    "auto.add(Conv2D(128, (3,3) activation=\"relu\"))\n",
    "auto.add(MaxPooling2D((2,2), padding = \"same\"))\n",
    "auto.add(Conv2D(256, (3,3) activation=\"relu\"))\n",
    "auto.add(MaxPooling2D((2,2), padding = \"same\"))\n",
    "\n",
    "# Decoder \n",
    "auto.add(UpSampling2D(2,2))\n",
    "auto.add(Conv2D(256, (3,3), activation='relu', padding='same'))\n",
    "auto.add(UpSampling2D(2,2))\n",
    "auto.add(Conv2D(128, (3,3), activation='relu', padding='same'))\n",
    "auto.add(Conv2D(64, (3,3), activation='relu', padding='same'))\n",
    "auto.add(UpSampling2D(2,2))\n",
    "auto.add(Conv2D(32, (3,3), activation='relu', padding='same'))\n",
    "auto.add(UpSampling2D(2,2))\n",
    "auto.add(Conv2D(16, (3,3), activation='relu', padding='same'))\n",
    "\n",
    "auto.compile(optimizer='adam', loss='mse', metrics=['accuracy'])"
   ]
  },
  {
   "cell_type": "code",
   "execution_count": null,
   "metadata": {},
   "outputs": [],
   "source": [
    "auto = load_model(saved_model)\n",
    "#auto = load_weight(saved_weights)"
   ]
  },
  {
   "cell_type": "code",
   "execution_count": null,
   "metadata": {},
   "outputs": [],
   "source": [
    "# fit(training data, label data, ...)\n",
    "auto.fit(train_np, validate_np, validation_split=0.1, epochs=epoch_size, verbose=1, shuffle=True, \n",
    "        steps_per_epoch=step_size(train_path, batch_size),\n",
    "        callbacks = EarlyStopping(min_delta=0.001, patience=5))"
   ]
  },
  {
   "cell_type": "code",
   "execution_count": null,
   "metadata": {},
   "outputs": [],
   "source": [
    "auto.save(os.path.join(models_path, saved_model))\n",
    "#auto.save((os.path.join(models_path, saved_weights))"
   ]
  },
  {
   "cell_type": "code",
   "execution_count": null,
   "metadata": {},
   "outputs": [],
   "source": [
    "def get_predicted(test_path):\n",
    "    predicted_path = create_dir(\"predicted_images/\")\n",
    "    for image in os.listdir(test_path):\n",
    "        predicted_gray = auto.predict(image)\n",
    "        predicted_img = Image.fromarray(predicted_gray)\n",
    "        predicted_img.save(save_path(predicted_path, file, \"_PR\"))"
   ]
  },
  {
   "cell_type": "code",
   "execution_count": null,
   "metadata": {},
   "outputs": [],
   "source": [
    "get_predicted(test_path)"
   ]
  }
 ],
 "metadata": {
  "kernelspec": {
   "display_name": "Python 3",
   "language": "python",
   "name": "python3"
  },
  "language_info": {
   "codemirror_mode": {
    "name": "ipython",
    "version": 3
   },
   "file_extension": ".py",
   "mimetype": "text/x-python",
   "name": "python",
   "nbconvert_exporter": "python",
   "pygments_lexer": "ipython3",
   "version": "3.6.8"
  }
 },
 "nbformat": 4,
 "nbformat_minor": 2
}
