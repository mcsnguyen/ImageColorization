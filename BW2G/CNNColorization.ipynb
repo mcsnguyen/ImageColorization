{
 "cells": [
  {
   "cell_type": "code",
   "execution_count": null,
   "metadata": {},
   "outputs": [],
   "source": [
    "import os\n",
    "import cv2\n",
    "import h5py\n",
    "import keras\n",
    "import numpy as np\n",
    "import matplotlib.pyplot as plt\n",
    "\n",
    "from PIL import Image\n",
    "from keras.models import Sequential, load_model\n",
    "from keras.layers import Conv2D, UpSampling2D, MaxPooling2D, Dropout"
   ]
  },
  {
   "cell_type": "code",
   "execution_count": null,
   "metadata": {},
   "outputs": [],
   "source": [
    "size = 512\n",
    "channels = 3\n",
    "batch_size = 32\n",
    "\n",
    "dataset_path = \"images/\"\n",
    "resized_path = \"squared_images/\"\n",
    "train_path = \"bw_images/\"\n",
    "validate_path = \"gray_images/\"\n",
    "test_path = \"test/\"\n",
    "\n",
    "models_path = \"saved_parameters/\"\n",
    "saved_model = \"saved_model.h5\"\n",
    "saved_weights = \"saved_weights.h5\""
   ]
  },
  {
   "cell_type": "code",
   "execution_count": null,
   "metadata": {
    "scrolled": true
   },
   "outputs": [],
   "source": [
    "# Create directory\n",
    "def create_dir(folder_name):\n",
    "    folder = os.path.join(folder_name)\n",
    "    if not os.path.exists(folder):\n",
    "        os.mkdir(folder)\n",
    "    return folder\n",
    "                          \n",
    "def save_path(dir_path, file, appended_name):\n",
    "    file_base = os.path.basename(file)\n",
    "    file_name, file_ext = os.path.splitext(file_base)   \n",
    "    return dir_path + file_name + appended_name + file_ext\n",
    "            \n",
    "# Create and save black and white images\n",
    "def convert_RGB2BW(dataset_path):\n",
    "    bw_path = create_dir(\"bw_images/\")\n",
    "    grayscale_path = create_dir(\"gray_images/\")\n",
    "    for file in os.listdir(dataset_path):\n",
    "        image = Image.open(os.path.join(dataset_path, file))\n",
    "        \n",
    "        # Convert image to grayscale based on Lighting\n",
    "        grayscale = image.convert('L')\n",
    "        grayscale = np.asarray(grayscale).copy()\n",
    "        gray_image = Image.fromarray(grayscale)\n",
    "        gray_image.save(save_path(grayscale_path, file, \"_GR\"))\n",
    "        \n",
    "        # Turn darker pixels black (0) and lighter pixels white (255)\n",
    "        grayscale[grayscale < 128] = 0\n",
    "        grayscale[grayscale >= 128] = 255\n",
    "        bw_image = Image.fromarray(grayscale)\n",
    "        bw_image.save(save_path(bw_path, file, \"_BW\"))\n",
    "        \n",
    "# Preprocess images: creates a white image and pastes data into white image\n",
    "def square_images(dataset_path, size, background_color=(255, 255, 255, 0)):\n",
    "    dir_path = create_dir(\"squared_images/\")\n",
    "    for file in os.listdir(dataset_path):\n",
    "        image = Image.open(file)\n",
    "        width, height = image.size\n",
    "        if(width != height and width != size):\n",
    "            squared_image = Image.new(\"1\", (size, size), background_color)\n",
    "            squared_image.paste(image)\n",
    "            squared_image.save(save_path(dir_path, file, \"_SQ\"))\n",
    "                          "
   ]
  },
  {
   "cell_type": "code",
   "execution_count": null,
   "metadata": {},
   "outputs": [],
   "source": [
    "# Load training and validating images into array\n",
    "def load_data(dir_path):\n",
    "    data_arr = []\n",
    "    for image in os.listdir(dir_path):\n",
    "        img_read = cv2.imread(os.path.join(dir_path, image))\n",
    "        data_arr.append(np.asarray(img_read))\n",
    "    return data_arr\n",
    "\n",
    "# Calculate Step Size\n",
    "def step_size(dir_path, batch_size):\n",
    "    counter = 0\n",
    "    for file in os.listdir(dir_path):\n",
    "        if os.path.isfile(os.path.join(dir_path, file)):\n",
    "            counter += 1\n",
    "    return counter/batch_size"
   ]
  },
  {
   "cell_type": "code",
   "execution_count": null,
   "metadata": {
    "scrolled": true
   },
   "outputs": [],
   "source": [
    "# Resize Image\n",
    "square_image(dataset_path, size)\n",
    "\n",
    "# Image Preprocessing\n",
    "convert_RGB2BW(resized_path)\n",
    "\n",
    "train_arr = load_data(train_path)\n",
    "validate_arr = load_data(validate_path)\n",
    "\n",
    "# Convert image array into numpy array\n",
    "train_np = np.array(train_arr)\n",
    "validate_np = np.array(validate_arr)\n",
    "\n",
    "# Normalize\n",
    "img_np = img_np/255\n",
    "print(img_np.shape)\n",
    "\n",
    "# Removes extra numpy dimension so image can be plotted\n",
    "plt.imshow(img_np.squeeze())\n",
    "plt.show()"
   ]
  },
  {
   "cell_type": "code",
   "execution_count": null,
   "metadata": {},
   "outputs": [],
   "source": [
    "# Autoencoder model\n",
    "auto = Sequential()\n",
    "auto.add(Input(shape=(size, size, channels)))\n",
    "\n",
    "# Encoder - smaller filters, larger feature map\n",
    "auto.add(Conv2D(16, (3,3), activation=\"relu\", input_shape(size, size, 1)))\n",
    "auto.add(MaxPooling2D((2,2), padding = \"same\"))\n",
    "auto.add(Conv2D(32, (3,3) activation=\"relu\"))\n",
    "auto.add(MaxPooling2D((2,2), padding = \"same\"))\n",
    "auto.add(Conv2D(64, (3,3) activation=\"relu\"))\n",
    "auto.add(MaxPooling2D((2,2), padding = \"same\"))\n",
    "auto.add(Conv2D(128, (3,3) activation=\"relu\"))\n",
    "auto.add(MaxPooling2D((2,2), padding = \"same\"))\n",
    "auto.add(Conv2D(256, (3,3) activation=\"relu\"))\n",
    "auto.add(MaxPooling2D((2,2), padding = \"same\"))\n",
    "auto.add(Conv2D(512, (3,3) activation=\"relu\"))\n",
    "\n",
    "# Decoder \n",
    "auto.add(UpSampling2D(2,2))\n",
    "auto.add(Conv2D(512, (3,3), activation='relu', padding='same'))\n",
    "auto.add(UpSampling2D(2,2))\n",
    "auto.add(Conv2D(256, (3,3), activation='relu', padding='same'))\n",
    "auto.add(UpSampling2D(2,2))\n",
    "auto.add(Conv2D(128, (3,3), activation='relu', padding='same'))\n",
    "auto.add(Conv2D(64, (3,3), activation='relu', padding='same'))\n",
    "auto.add(UpSampling2D(2,2))\n",
    "auto.add(Conv2D(32, (3,3), activation='relu', padding='same'))\n",
    "auto.add(UpSampling2D(2,2))\n",
    "auto.add(Conv2D(16, (3,3), activation='relu', padding='same'))\n",
    "\n",
    "auto.compile(optimizer='adam', loss='mse')"
   ]
  },
  {
   "cell_type": "code",
   "execution_count": null,
   "metadata": {},
   "outputs": [],
   "source": [
    "auto = load_model(saved_model)\n",
    "#auto = load_weight(saved_weights)"
   ]
  },
  {
   "cell_type": "code",
   "execution_count": null,
   "metadata": {},
   "outputs": [],
   "source": [
    "# fit(training data, label data, ...)\n",
    "auto.fit(train_np, validate_np, validation_split=0.1, epoch=20, verbose=1, shuffle=True, \n",
    "         steps_per_epoch=step_size(train_path, batch_size))"
   ]
  },
  {
   "cell_type": "code",
   "execution_count": null,
   "metadata": {},
   "outputs": [],
   "source": [
    "auto.save(os.path.join(models_path, saved_model))\n",
    "#auto.save((os.path.join(models_path, saved_weights))"
   ]
  },
  {
   "cell_type": "code",
   "execution_count": null,
   "metadata": {},
   "outputs": [],
   "source": [
    "def get_predicted(test_path):\n",
    "    predicted_path = create_dir(\"predicted_images/\")\n",
    "    for image in os.listdir(test_path):\n",
    "        predicted_gray = auto.predict(image)\n",
    "        predicted_img = Image.fromarray(predicted_gray)\n",
    "        predicted_img.save(save_path(predicted_path, file, \"_PR\"))"
   ]
  },
  {
   "cell_type": "code",
   "execution_count": null,
   "metadata": {},
   "outputs": [],
   "source": [
    "get_predicted(test_path)"
   ]
  }
 ],
 "metadata": {
  "kernelspec": {
   "display_name": "Python 3",
   "language": "python",
   "name": "python3"
  },
  "language_info": {
   "codemirror_mode": {
    "name": "ipython",
    "version": 3
   },
   "file_extension": ".py",
   "mimetype": "text/x-python",
   "name": "python",
   "nbconvert_exporter": "python",
   "pygments_lexer": "ipython3",
   "version": "3.6.8"
  }
 },
 "nbformat": 4,
 "nbformat_minor": 2
}
