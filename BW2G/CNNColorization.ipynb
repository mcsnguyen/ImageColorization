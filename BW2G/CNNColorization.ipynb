{
 "cells": [
  {
   "cell_type": "code",
   "execution_count": 1,
   "metadata": {},
   "outputs": [
    {
     "name": "stderr",
     "output_type": "stream",
     "text": [
      "Using TensorFlow backend.\n"
     ]
    }
   ],
   "source": [
    "import keras\n",
    "import numpy as np\n",
    "import cv2\n",
    "import os\n",
    "#from pillow import Image\n",
    "from PIL import Image\n",
    "#from pathlib import Path\n",
    "from keras.models import Sequential\n",
    "#from keras.preprocessing.image import ImageDataGenerator"
   ]
  },
  {
   "cell_type": "code",
   "execution_count": 2,
   "metadata": {},
   "outputs": [],
   "source": [
    "size = 512\n",
    "channels = 3\n",
    "dataset_path = \"images/\"\n",
    "train_path = \"bw_images/\"\n",
    "validate_path = \"/\"\n",
    "test_path = \"/\""
   ]
  },
  {
   "cell_type": "code",
   "execution_count": 7,
   "metadata": {
    "scrolled": true
   },
   "outputs": [],
   "source": [
    "# Create directory\n",
    "def create_dir(folder_name):\n",
    "    folder = os.path.join(folder_name)\n",
    "    if not os.path.exists(folder):\n",
    "        os.mkdir(folder)\n",
    "    return folder\n",
    "                          \n",
    "def save_path(dir_path, file, appended_name):\n",
    "    file_base = os.path.basename(file)\n",
    "    file_name, file_ext = os.path.splitext(file_base)   \n",
    "    return dir_path + file_name + appended_name + file_ext\n",
    "            \n",
    "# Create and save black and white images\n",
    "def convert_RGB2BW(dataset_path):\n",
    "    bw_path = create_dir(\"bw_images/\")\n",
    "    grayscale_path = create_dir(\"gray_images/\")\n",
    "    for file in os.listdir(dataset_path):\n",
    "        image = Image.open(os.path.join(dataset_path, file))\n",
    "        \n",
    "        # Convert image to grayscale based on Lighting\n",
    "        grayscale = image.convert('L')\n",
    "        grayscale = np.asarray(grayscale).copy()\n",
    "        gray_image = Image.fromarray(grayscale)\n",
    "        gray_image.save(save_path(grayscale_path, file, \"_GR\"))\n",
    "        \n",
    "        # Turn darker pixels black (0) and lighter pixels white (255)\n",
    "        grayscale[grayscale < 128] = 0\n",
    "        grayscale[grayscale >= 128] = 255\n",
    "        bw_image = Image.fromarray(grayscale)\n",
    "        bw_image.save(save_path(bw_path, file, \"_BW\"))\n",
    "        \n",
    "# Preprocess images: creates a white image and pastes data into white image\n",
    "def square_images(dataset_path, size, background_color=(255, 255, 255, 0)):\n",
    "    dir_path = create_dir(\"squared_images/\")\n",
    "    for file in os.listdir(dataset_path):\n",
    "        image = Image.open(file)\n",
    "        width, height = image.size\n",
    "        if(width != height and width != size):\n",
    "            squared_image = Image.new(\"1\", (size, size), background_color)\n",
    "            squared_image.paste(image)\n",
    "            squared_image.save(save_path(dir_path, file, \"_SQ\"))\n",
    "                          "
   ]
  },
  {
   "cell_type": "code",
   "execution_count": 8,
   "metadata": {
    "scrolled": true
   },
   "outputs": [
    {
     "name": "stdout",
     "output_type": "stream",
     "text": [
      "[[[[0.         0.         0.        ]\n",
      "   [0.02352941 0.02352941 0.02352941]\n",
      "   [0.98823529 0.98823529 0.98823529]\n",
      "   ...\n",
      "   [1.         1.         1.        ]\n",
      "   [1.         1.         1.        ]\n",
      "   [1.         1.         1.        ]]\n",
      "\n",
      "  [[1.         1.         1.        ]\n",
      "   [0.85882353 0.85882353 0.85882353]\n",
      "   [1.         1.         1.        ]\n",
      "   ...\n",
      "   [1.         1.         1.        ]\n",
      "   [1.         1.         1.        ]\n",
      "   [1.         1.         1.        ]]\n",
      "\n",
      "  [[1.         1.         1.        ]\n",
      "   [1.         1.         1.        ]\n",
      "   [0.99607843 0.99607843 0.99607843]\n",
      "   ...\n",
      "   [1.         1.         1.        ]\n",
      "   [1.         1.         1.        ]\n",
      "   [1.         1.         1.        ]]\n",
      "\n",
      "  ...\n",
      "\n",
      "  [[0.         0.         0.        ]\n",
      "   [0.         0.         0.        ]\n",
      "   [0.         0.         0.        ]\n",
      "   ...\n",
      "   [0.         0.         0.        ]\n",
      "   [0.         0.         0.        ]\n",
      "   [0.         0.         0.        ]]\n",
      "\n",
      "  [[0.         0.         0.        ]\n",
      "   [0.         0.         0.        ]\n",
      "   [0.         0.         0.        ]\n",
      "   ...\n",
      "   [0.         0.         0.        ]\n",
      "   [0.         0.         0.        ]\n",
      "   [0.         0.         0.        ]]\n",
      "\n",
      "  [[0.         0.         0.        ]\n",
      "   [0.         0.         0.        ]\n",
      "   [0.         0.         0.        ]\n",
      "   ...\n",
      "   [0.         0.         0.        ]\n",
      "   [0.         0.         0.        ]\n",
      "   [0.         0.         0.        ]]]]\n"
     ]
    }
   ],
   "source": [
    "# Image Preprocessing\n",
    "convert_RGB2BW(dataset_path)\n",
    "\n",
    "# Load images into array\n",
    "img_arr = []\n",
    "for image in os.listdir(train_path):\n",
    "    img_read = cv2.imread(os.path.join(train_path,image))\n",
    "    img_arr.append(np.asarray(img_read))\n",
    "\n",
    "# Convert image array into numpy array\n",
    "img_np = np.array(img_arr)\n",
    "\n",
    "# Normalize\n",
    "img_np = img_np/255\n",
    "print(img_np)"
   ]
  },
  {
   "cell_type": "code",
   "execution_count": null,
   "metadata": {},
   "outputs": [],
   "source": [
    "# Calculate Step Size\n",
    "def step_size(dir_path, batch_size):\n",
    "    counter = 0\n",
    "    for file in os.listdir(dir_path):\n",
    "        if os.path.isfile(os.path.join(dir_path, file)):\n",
    "            counter += 1\n",
    "    return counter/batch_size"
   ]
  },
  {
   "cell_type": "code",
   "execution_count": null,
   "metadata": {},
   "outputs": [],
   "source": [
    "autoencoder = Sequential()\n",
    "autoencoder.add(Conv2D(16, (3,3), activation=\"relu\", input_shape(size, size, 1)))\n",
    "autoencoder.add(MaxPooling2D((2,2), padding = \"same\"))\n",
    "autoencoder.add(Conv2D(32, (3,3) activation=\"relu\"))"
   ]
  },
  {
   "cell_type": "code",
   "execution_count": null,
   "metadata": {},
   "outputs": [],
   "source": [
    "autoencoder.fit(img_np, validation_split=0.1, batch_size=x, epoch=x, shuffle=True)"
   ]
  },
  {
   "cell_type": "code",
   "execution_count": null,
   "metadata": {},
   "outputs": [],
   "source": []
  }
 ],
 "metadata": {
  "kernelspec": {
   "display_name": "Python 3",
   "language": "python",
   "name": "python3"
  },
  "language_info": {
   "codemirror_mode": {
    "name": "ipython",
    "version": 3
   },
   "file_extension": ".py",
   "mimetype": "text/x-python",
   "name": "python",
   "nbconvert_exporter": "python",
   "pygments_lexer": "ipython3",
   "version": "3.7.3"
  }
 },
 "nbformat": 4,
 "nbformat_minor": 2
}
