{
 "cells": [
  {
   "cell_type": "code",
   "execution_count": 1,
   "metadata": {},
   "outputs": [
    {
     "name": "stderr",
     "output_type": "stream",
     "text": [
      "Using TensorFlow backend.\n"
     ]
    }
   ],
   "source": [
    "import os\n",
    "import cv2\n",
    "import h5py\n",
    "import keras\n",
    "import shutil\n",
    "import numpy as np\n",
    "import matplotlib.pyplot as plt\n",
    "\n",
    "from PIL import Image\n",
    "from keras.models import Sequential, load_model, Model\n",
    "from keras.layers import InputLayer, Conv2D, MaxPooling2D, UpSampling2D, Dropout, concatenate, Conv2DTranspose, Dense, Conv2D, Flatten\n",
    "from keras.callbacks import EarlyStopping"
   ]
  },
  {
   "cell_type": "code",
   "execution_count": 2,
   "metadata": {},
   "outputs": [],
   "source": [
    "size = 256\n",
    "batch_size = 100\n",
    "channels = 1\n",
    "\n",
    "dataset_path = \"images/0\"\n",
    "dataset_test_path = \"images/1\"\n",
    "resized_path = \"squared_images/\"\n",
    "train_path = \"bw_images/\"\n",
    "validate_path = \"gray_images/\"\n",
    "test_path = \"bw_test_images/\"\n",
    "\n",
    "models_path = \"saved_parameters/\"\n",
    "saved_model = \"saved_model.h5\"\n",
    "saved_weights = \"saved_weights.h5\""
   ]
  },
  {
   "cell_type": "code",
   "execution_count": 12,
   "metadata": {
    "scrolled": true
   },
   "outputs": [],
   "source": [
    "# Create directory\n",
    "def create_dir(folder_name):\n",
    "    folder = os.path.join(folder_name)\n",
    "    if not os.path.exists(folder):\n",
    "        os.mkdir(folder)\n",
    "    return folder\n",
    "                          \n",
    "def save_path(dir_path, file, appended_name):\n",
    "    file_base = os.path.basename(file)\n",
    "    file_name, file_ext = os.path.splitext(file_base)   \n",
    "    return dir_path + file_name + appended_name + file_ext\n",
    "\n",
    "# Create and save black and white images\n",
    "def convert_RGB2BW(dataset_path, train_path, validate_path):\n",
    "    bw_path = create_dir(train_path)\n",
    "    grayscale_path = create_dir(validate_path)\n",
    "    for file in os.listdir(dataset_path):\n",
    "        image = Image.open(os.path.join(dataset_path, file))\n",
    "        \n",
    "        # Convert image to grayscale based on Lighting\n",
    "        grayscale = image.convert('L')\n",
    "        grayscale = np.asarray(grayscale).copy()\n",
    "        gray_image = Image.fromarray(grayscale)\n",
    "        gray_image.save(save_path(grayscale_path, file, \"-GR\"))\n",
    "        \n",
    "        # Turn darker pixels black (0) and lighter pixels white (255)\n",
    "        grayscale[grayscale < 128] = 0\n",
    "        grayscale[grayscale >= 128] = 255\n",
    "        bw_image = Image.fromarray(grayscale)\n",
    "        bw_image.save(save_path(bw_path, file, \"-BW\"))\n",
    "        \n",
    "# Preprocess images: creates a white image and pastes data into white image\n",
    "def square_images(dataset_path, size):\n",
    "    dir_path = create_dir(\"squared_images/\")\n",
    "    for file in os.listdir(dataset_path):\n",
    "        image = Image.open(os.path.join(dataset_path, file))\n",
    "        width, height = image.size\n",
    "        if(width != height and width != size):\n",
    "            squared_image = image.resize((size,size), Image.LANCZOS)\n",
    "            #squared_image.paste(image)\n",
    "            squared_image.save(save_path(dir_path, file, \"_SQ\"))\n",
    "            \n",
    "def load_test(dataset_test_path, test_path, size):\n",
    "    dir_path = create_dir(test_path)\n",
    "    for count, file in zip(range(0, size), os.listdir(dataset_test_path)):\n",
    "        convert_RGB2BW\n",
    "\n",
    "def split_test(source_path, dest_path):\n",
    "    for count, file in zip(range(0,10), os.listdir(source_path)):\n",
    "        shutil.move(os.path.join(source_path, file), os.path.join(dest_path, file))\n",
    "                                "
   ]
  },
  {
   "cell_type": "code",
   "execution_count": 8,
   "metadata": {},
   "outputs": [],
   "source": [
    "# Load training and validating images with cv2 to capture channel dim\n",
    "def load_binary_gray(dir_path):\n",
    "    data_arr = []\n",
    "    for file in os.listdir(dir_path):\n",
    "        img_read = cv2.imread(os.path.join(dir_path, file), 0)\n",
    "        img_read = np.array(img_read)\n",
    "        data_arr.append(img_read)\n",
    "    return data_arr\n",
    "\n",
    "def test_load(dir_path):\n",
    "    data_arr = []\n",
    "    counter = 0\n",
    "    for file in sorted(os.listdir(dir_path)):\n",
    "        img_read = cv2.imread(os.path.join(dir_path, file), 0)\n",
    "        img_read = np.array(img_read)\n",
    "        print(file)\n",
    "        print(img_read.shape)\n",
    "        data_arr.append(img_read)\n",
    "        counter += 1\n",
    "        if counter == 2:\n",
    "            return data_arr\n",
    "    return data_arr\n",
    "\n",
    "# Calculate epoch size to traverse all training data\n",
    "def step_size(dir_path, batch_size):\n",
    "    counter = 0\n",
    "    for file in os.listdir(dir_path):\n",
    "        if os.path.isfile(os.path.join(dir_path, file)):\n",
    "            counter += 1\n",
    "    return int(counter/batch_size)"
   ]
  },
  {
   "cell_type": "code",
   "execution_count": null,
   "metadata": {},
   "outputs": [],
   "source": [
    "# Resize Image\n",
    "square_images(dataset_path, size)"
   ]
  },
  {
   "cell_type": "code",
   "execution_count": 13,
   "metadata": {
    "scrolled": false
   },
   "outputs": [
    {
     "ename": "OSError",
     "evalue": "[Errno 24] Too many open files: 'squared_images/'",
     "output_type": "error",
     "traceback": [
      "\u001b[0;31m---------------------------------------------------------------------------\u001b[0m",
      "\u001b[0;31mOSError\u001b[0m                                   Traceback (most recent call last)",
      "\u001b[0;32m<ipython-input-13-5899a5e03a69>\u001b[0m in \u001b[0;36m<module>\u001b[0;34m\u001b[0m\n\u001b[1;32m      1\u001b[0m \u001b[0;31m# Image Preprocessing\u001b[0m\u001b[0;34m\u001b[0m\u001b[0;34m\u001b[0m\u001b[0;34m\u001b[0m\u001b[0m\n\u001b[0;32m----> 2\u001b[0;31m \u001b[0mconvert_RGB2BW\u001b[0m\u001b[0;34m(\u001b[0m\u001b[0mresized_path\u001b[0m\u001b[0;34m,\u001b[0m \u001b[0mtrain_path\u001b[0m\u001b[0;34m,\u001b[0m \u001b[0mvalidate_path\u001b[0m\u001b[0;34m)\u001b[0m\u001b[0;34m\u001b[0m\u001b[0;34m\u001b[0m\u001b[0m\n\u001b[0m\u001b[1;32m      3\u001b[0m \u001b[0msplit\u001b[0m\u001b[0;34m(\u001b[0m\u001b[0mtrain_path\u001b[0m\u001b[0;34m,\u001b[0m \u001b[0mtest_path\u001b[0m\u001b[0;34m)\u001b[0m\u001b[0;34m\u001b[0m\u001b[0;34m\u001b[0m\u001b[0m\n",
      "\u001b[0;32m<ipython-input-12-ad6e0c5f7a6b>\u001b[0m in \u001b[0;36mconvert_RGB2BW\u001b[0;34m(dataset_path, train_path, validate_path)\u001b[0m\n\u001b[1;32m     15\u001b[0m     \u001b[0mbw_path\u001b[0m \u001b[0;34m=\u001b[0m \u001b[0mcreate_dir\u001b[0m\u001b[0;34m(\u001b[0m\u001b[0mtrain_path\u001b[0m\u001b[0;34m)\u001b[0m\u001b[0;34m\u001b[0m\u001b[0;34m\u001b[0m\u001b[0m\n\u001b[1;32m     16\u001b[0m     \u001b[0mgrayscale_path\u001b[0m \u001b[0;34m=\u001b[0m \u001b[0mcreate_dir\u001b[0m\u001b[0;34m(\u001b[0m\u001b[0mvalidate_path\u001b[0m\u001b[0;34m)\u001b[0m\u001b[0;34m\u001b[0m\u001b[0;34m\u001b[0m\u001b[0m\n\u001b[0;32m---> 17\u001b[0;31m     \u001b[0;32mfor\u001b[0m \u001b[0mfile\u001b[0m \u001b[0;32min\u001b[0m \u001b[0mos\u001b[0m\u001b[0;34m.\u001b[0m\u001b[0mlistdir\u001b[0m\u001b[0;34m(\u001b[0m\u001b[0mdataset_path\u001b[0m\u001b[0;34m)\u001b[0m\u001b[0;34m:\u001b[0m\u001b[0;34m\u001b[0m\u001b[0;34m\u001b[0m\u001b[0m\n\u001b[0m\u001b[1;32m     18\u001b[0m         \u001b[0mimage\u001b[0m \u001b[0;34m=\u001b[0m \u001b[0mImage\u001b[0m\u001b[0;34m.\u001b[0m\u001b[0mopen\u001b[0m\u001b[0;34m(\u001b[0m\u001b[0mos\u001b[0m\u001b[0;34m.\u001b[0m\u001b[0mpath\u001b[0m\u001b[0;34m.\u001b[0m\u001b[0mjoin\u001b[0m\u001b[0;34m(\u001b[0m\u001b[0mdataset_path\u001b[0m\u001b[0;34m,\u001b[0m \u001b[0mfile\u001b[0m\u001b[0;34m)\u001b[0m\u001b[0;34m)\u001b[0m\u001b[0;34m\u001b[0m\u001b[0;34m\u001b[0m\u001b[0m\n\u001b[1;32m     19\u001b[0m \u001b[0;34m\u001b[0m\u001b[0m\n",
      "\u001b[0;31mOSError\u001b[0m: [Errno 24] Too many open files: 'squared_images/'"
     ]
    }
   ],
   "source": [
    "# Image Preprocessing\n",
    "convert_RGB2BW(resized_path, train_path, validate_path)\n",
    "split(train_path, test_path)"
   ]
  },
  {
   "cell_type": "code",
   "execution_count": null,
   "metadata": {},
   "outputs": [],
   "source": [
    "# Load images into arrays\n",
    "'''\n",
    "train_arr = load_binary_gray(train_path)\n",
    "validate_arr = load_binary_gray(validate_path)\n",
    "'''\n",
    "train_arr = test_load(train_path)\n",
    "validate_arr = test_load(validate_path)\n",
    "\n",
    "# Convert image array into numpy array\n",
    "train_np = np.array(train_arr)\n",
    "validate_np = np.array(validate_arr)\n",
    "\n",
    "train_np = train_np.astype('float32')\n",
    "validate_np = validate_np.astype('float32')\n",
    "\n",
    "# Reshape to include channel dim for grayscale/black and white images\n",
    "train_np = train_np.reshape(train_np.shape[0], size, size, 1)\n",
    "validate_np = validate_np.reshape(validate_np.shape[0], size, size, 1)\n",
    "\n",
    "# Normalize\n",
    "train_np = train_np/255\n",
    "validate_np = validate_np/255"
   ]
  },
  {
   "cell_type": "code",
   "execution_count": null,
   "metadata": {
    "scrolled": true
   },
   "outputs": [],
   "source": [
    "# Check data size, dimensions, and channels\n",
    "\n",
    "print(train_np.shape)\n",
    "print(train_np.dtype)\n",
    "print(validate_np.shape)\n",
    "print(validate_np.dtype)\n",
    "\n",
    "print(train_np[0].shape)\n",
    "plt.imshow(train_np[0].squeeze(), cmap='gray')\n"
   ]
  },
  {
   "cell_type": "code",
   "execution_count": null,
   "metadata": {},
   "outputs": [],
   "source": [
    "# Autoencoder model\n",
    "auto = Sequential()\n",
    "auto.add(InputLayer(input_shape=(train_np.shape[1:])))\n",
    "\n",
    "# Encoder - smaller filters, larger feature map\n",
    "auto.add(Conv2D(16, (3,3), strides=(2,2), padding = 'same', activation='relu'))\n",
    "auto.add(MaxPooling2D((2,2), padding='same'))\n",
    "auto.add(Conv2D(32, (3,3), strides=(2,2), padding='same', activation='relu'))\n",
    "auto.add(MaxPooling2D((2,2), padding='same'))\n",
    "auto.add(Conv2D(64, (3,3), strides=(2,2), padding='same', activation='relu'))\n",
    "auto.add(MaxPooling2D((2,2), padding='same'))\n",
    "auto.add(Conv2D(128, (3,3), strides=(2,2), padding='same', activation='relu'))\n",
    "auto.add(MaxPooling2D((2,2), padding='same'))\n",
    "auto.add(Conv2D(256, (3,3), strides=(2,2), padding='same', activation='relu'))\n",
    "auto.add(MaxPooling2D((2,2), padding='same'))\n",
    "\n",
    "# Decoder \n",
    "'''\n",
    "auto.add(Conv2DTranspose(256, (2,2), strides=(2,2), activation='relu', padding='valid'))\n",
    "auto.add(Conv2DTranspose(128, (2,2), strides=(2,2), activation='relu', padding='valid'))\n",
    "auto.add(Conv2DTranspose(64, (2,2), strides=(2,2), activation='relu', padding='valid'))\n",
    "auto.add(Conv2DTranspose(32, (2,2), strides=(2,2), activation='relu', padding='valid'))\n",
    "auto.add(Conv2DTranspose(16, (2,2), strides=(2,2), activation='relu', padding='valid'))\n",
    "auto.add(Conv2DTranspose(1, (2,2), strides=(2,2), activation='relu', padding='valid'))\n",
    "'''\n",
    "auto.add(Conv2D(256, (3,3), strides=(2,2), padding='same', activation='relu'))\n",
    "auto.add(UpSampling2D((2,2)))\n",
    "auto.add(Conv2D(128, (3,3), activation='relu', padding='same'))\n",
    "auto.add(UpSampling2D((2,2)))\n",
    "auto.add(Conv2D(64, (3,3), activation='relu', padding='same'))\n",
    "auto.add(UpSampling2D((2,2)))\n",
    "auto.add(Conv2D(32, (3,3), activation='relu', padding='same'))\n",
    "auto.add(UpSampling2D((2,2)))\n",
    "auto.add(Conv2D(16, (3,3), activation='relu', padding='same'))\n",
    "auto.add(UpSampling2D((2,2)))\n",
    "auto.add(Conv2D(8, (3,3), activation='relu', padding='same'))\n",
    "auto.add(UpSampling2D((2,2)))\n",
    "auto.add(Conv2D(4, (3,3), activation='relu', padding='same'))\n",
    "auto.add(UpSampling2D((2,2)))\n",
    "auto.add(Conv2D(2, (3,3), activation='relu', padding='same'))\n",
    "auto.add(UpSampling2D((2,2)))\n",
    "auto.add(Conv2D(1, (3,3), activation='sigmoid', padding='same'))\n",
    "\n",
    "auto.compile(optimizer='adam', loss='mse', metrics=['accuracy'])\n",
    "auto.summary()\n",
    "print(auto.output_shape)"
   ]
  },
  {
   "cell_type": "code",
   "execution_count": null,
   "metadata": {},
   "outputs": [],
   "source": [
    "inputs = Input((size, size, 1))\n",
    "conv1 = Conv2D(32, (3, 3), activation='relu', padding='same')(inputs)\n",
    "conv1 = Conv2D(32, (3, 3), activation='relu', padding='same')(conv1)\n",
    "pool1 = MaxPooling2D(pool_size=(2, 2))(conv1)\n",
    "\n",
    "conv2 = Conv2D(64, (3, 3), activation='relu', padding='same')(pool1)\n",
    "conv2 = Conv2D(64, (3, 3), activation='relu', padding='same')(conv2)\n",
    "pool2 = MaxPooling2D(pool_size=(2, 2))(conv2)\n",
    "\n",
    "conv3 = Conv2D(128, (3, 3), activation='relu', padding='same')(pool2)\n",
    "conv3 = Conv2D(128, (3, 3), activation='relu', padding='same')(conv3)\n",
    "pool3 = MaxPooling2D(pool_size=(2, 2))(conv3)\n",
    "\n",
    "conv4 = Conv2D(256, (3, 3), activation='relu', padding='same')(pool3)\n",
    "conv4 = Conv2D(256, (3, 3), activation='relu', padding='same')(conv4)\n",
    "pool4 = MaxPooling2D(pool_size=(2, 2))(conv4)\n",
    "\n",
    "conv5 = Conv2D(512, (3, 3), activation='relu', padding='same')(pool4)\n",
    "conv5 = Conv2D(512, (3, 3), activation='relu', padding='same')(conv5)\n",
    "\n",
    "up6 = concatenate([Conv2DTranspose(256, (2, 2), strides=(2, 2), padding='same')(conv5), conv4], axis=3)\n",
    "conv6 = Conv2D(256, (3, 3), activation='relu', padding='same')(up6)\n",
    "conv6 = Conv2D(256, (3, 3), activation='relu', padding='same')(conv6)\n",
    "\n",
    "up7 = concatenate([Conv2DTranspose(128, (2, 2), strides=(2, 2), padding='same')(conv6), conv3], axis=3)\n",
    "conv7 = Conv2D(128, (3, 3), activation='relu', padding='same')(up7)\n",
    "conv7 = Conv2D(128, (3, 3), activation='relu', padding='same')(conv7)\n",
    "\n",
    "up8 = concatenate([Conv2DTranspose(64, (2, 2), strides=(2, 2), padding='same')(conv7), conv2], axis=3)\n",
    "conv8 = Conv2D(64, (3, 3), activation='relu', padding='same')(up8)\n",
    "conv8 = Conv2D(64, (3, 3), activation='relu', padding='same')(conv8)\n",
    "\n",
    "up9 = concatenate([Conv2DTranspose(32, (2, 2), strides=(2, 2), padding='same')(conv8), conv1], axis=3)\n",
    "conv9 = Conv2D(32, (3, 3), activation='relu', padding='same')(up9)\n",
    "conv9 = Conv2D(32, (3, 3), activation='relu', padding='same')(conv9)\n",
    "\n",
    "conv10 = Conv2D(1, (1, 1), activation='sigmoid')(conv9)\n",
    "\n",
    "model = Model(inputs=[inputs], outputs=[conv10])\n",
    "model.summary()"
   ]
  },
  {
   "cell_type": "code",
   "execution_count": null,
   "metadata": {},
   "outputs": [],
   "source": [
    "auto = load_model(saved_model)\n",
    "#auto = load_weight(saved_weights)"
   ]
  },
  {
   "cell_type": "code",
   "execution_count": null,
   "metadata": {},
   "outputs": [],
   "source": [
    "# fit(training data, label data, ...)\n",
    "steps = step_size(train_path, batch_size)\n",
    "\n",
    "auto.fit(train_np, train_np, epochs=20, verbose=1, shuffle=True, validation_data=(validate_np, validate_np),\n",
    "         steps_per_epoch=steps, validation_steps=steps)\n",
    "'''\n",
    "auto.fit(train_np, validate_np, validation_split=0.1, epochs=20, verbose=1, shuffle=True, \n",
    "        steps_per_epoch=epoch_steps(train_path, batch_size),\n",
    "        callbacks = EarlyStopping(min_delta=0.001, patience=5))\n",
    "        \n",
    "auto.fit(train_np, validate_np, validation_split=0.1, epochs=epoch_size, batch_size=batch_size)\n",
    "'''"
   ]
  },
  {
   "cell_type": "code",
   "execution_count": null,
   "metadata": {},
   "outputs": [],
   "source": [
    "auto.save(os.path.join(models_path, saved_model))\n",
    "#auto.save((os.path.join(models_path, saved_weights))"
   ]
  },
  {
   "cell_type": "code",
   "execution_count": null,
   "metadata": {},
   "outputs": [],
   "source": [
    "def get_predicted(test_path):\n",
    "    predicted_path = create_dir(\"predicted_images/\")\n",
    "    predicted_gray = auto.predict(validate_np)\n",
    "    predicted_img = Image.fromarray(predicted_gray[0].squeeze())\n",
    "    plt.imshow(predicted_img, cmap='gray')\n",
    "    predicted_img.save(save_path(predicted_path, \"test\", \"_PR\"))"
   ]
  },
  {
   "cell_type": "code",
   "execution_count": null,
   "metadata": {},
   "outputs": [],
   "source": [
    "get_predicted(validate_path)"
   ]
  },
  {
   "cell_type": "code",
   "execution_count": null,
   "metadata": {},
   "outputs": [],
   "source": []
  }
 ],
 "metadata": {
  "kernelspec": {
   "display_name": "Python 3",
   "language": "python",
   "name": "python3"
  },
  "language_info": {
   "codemirror_mode": {
    "name": "ipython",
    "version": 3
   },
   "file_extension": ".py",
   "mimetype": "text/x-python",
   "name": "python",
   "nbconvert_exporter": "python",
   "pygments_lexer": "ipython3",
   "version": "3.7.3"
  }
 },
 "nbformat": 4,
 "nbformat_minor": 2
}
