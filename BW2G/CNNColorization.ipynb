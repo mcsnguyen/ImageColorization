{
 "cells": [
  {
   "cell_type": "code",
   "execution_count": 26,
   "metadata": {},
   "outputs": [],
   "source": [
    "import os\n",
    "import cv2\n",
    "import h5py\n",
    "import keras\n",
    "import numpy as np\n",
    "import matplotlib.pyplot as plt\n",
    "\n",
    "from PIL import Image\n",
    "from keras.models import Sequential, load_model\n",
    "from keras.layers import Input, Conv2D, MaxPooling2D, UpSampling2D, Dropout\n",
    "from keras.callbacks import EarlyStopping"
   ]
  },
  {
   "cell_type": "code",
   "execution_count": 2,
   "metadata": {},
   "outputs": [],
   "source": [
    "size = 256\n",
    "batch_size = 100\n",
    "\n",
    "dataset_path = \"images/0\"\n",
    "resized_path = \"squared_images/\"\n",
    "train_path = \"bw_images/\"\n",
    "validate_path = \"gray_images/\"\n",
    "test_path = \"test/\"\n",
    "\n",
    "models_path = \"saved_parameters/\"\n",
    "saved_model = \"saved_model.h5\"\n",
    "saved_weights = \"saved_weights.h5\""
   ]
  },
  {
   "cell_type": "code",
   "execution_count": 3,
   "metadata": {
    "scrolled": true
   },
   "outputs": [],
   "source": [
    "# Create directory\n",
    "def create_dir(folder_name):\n",
    "    folder = os.path.join(folder_name)\n",
    "    if not os.path.exists(folder):\n",
    "        os.mkdir(folder)\n",
    "    return folder\n",
    "                          \n",
    "def save_path(dir_path, file, appended_name):\n",
    "    file_base = os.path.basename(file)\n",
    "    file_name, file_ext = os.path.splitext(file_base)   \n",
    "    return dir_path + file_name + appended_name + file_ext\n",
    "\n",
    "# Create and save black and white images\n",
    "def convert_RGB2BW(dataset_path):\n",
    "    bw_path = create_dir(\"bw_images/\")\n",
    "    grayscale_path = create_dir(\"gray_images/\")\n",
    "    for file in os.listdir(dataset_path):\n",
    "        image = Image.open(os.path.join(dataset_path, file))\n",
    "        \n",
    "        # Convert image to grayscale based on Lighting\n",
    "        grayscale = image.convert('L')\n",
    "        grayscale = np.asarray(grayscale).copy()\n",
    "        gray_image = Image.fromarray(grayscale)\n",
    "        gray_image.save(save_path(grayscale_path, file, \"-GR\"))\n",
    "        \n",
    "        # Turn darker pixels black (0) and lighter pixels white (255)\n",
    "        grayscale[grayscale < 128] = 0\n",
    "        grayscale[grayscale >= 128] = 255\n",
    "        bw_image = Image.fromarray(grayscale)\n",
    "        bw_image.save(save_path(bw_path, file, \"-BW\"))\n",
    "        \n",
    "# Preprocess images: creates a white image and pastes data into white image\n",
    "def square_images(dataset_path, size):\n",
    "    dir_path = create_dir(\"squared_images/\")\n",
    "    for file in os.listdir(dataset_path):\n",
    "        image = Image.open(os.path.join(dataset_path, file))\n",
    "        width, height = image.size\n",
    "        if(width != height and width != size):\n",
    "            squared_image = image.resize((size,size), Image.LANCZOS)\n",
    "            #squared_image.paste(image)\n",
    "            squared_image.save(save_path(dir_path, file, \"_SQ\"))\n",
    "    "
   ]
  },
  {
   "cell_type": "code",
   "execution_count": 16,
   "metadata": {},
   "outputs": [],
   "source": [
    "# Load training and validating images with cv2 to capture channel dim\n",
    "def load_data(dir_path):\n",
    "    data_arr = []\n",
    "    for file in os.listdir(dir_path):\n",
    "        img_read = cv2.imread(os.path.join(dir_path, file))\n",
    "        img_read = np.array(img_read)\n",
    "        data_arr.append(img_read)\n",
    "    return data_arr\n",
    "\n",
    "def test_load(dir_path):\n",
    "    data_arr = []\n",
    "    counter = 0\n",
    "    for file in sorted(os.listdir(dir_path)):\n",
    "        print(file)\n",
    "        img_read = cv2.imread(os.path.join(dir_path, file))\n",
    "        img_read = np.array(img_read)\n",
    "        data_arr.append(img_read)\n",
    "        counter += 1\n",
    "        if counter == 2:\n",
    "            return data_arr\n",
    "    return data_arr\n",
    "\n",
    "# Calculate epoch size to traverse all training data\n",
    "def epoch_size(dir_path, batch_size):\n",
    "    counter = 0\n",
    "    for file in os.listdir(dir_path):\n",
    "        if os.path.isfile(os.path.join(dir_path, file)):\n",
    "            counter += 1\n",
    "    return counter/batch_size"
   ]
  },
  {
   "cell_type": "code",
   "execution_count": null,
   "metadata": {},
   "outputs": [],
   "source": [
    "# Resize Image\n",
    "square_images(dataset_path, size)"
   ]
  },
  {
   "cell_type": "code",
   "execution_count": null,
   "metadata": {
    "scrolled": false
   },
   "outputs": [],
   "source": [
    "# Image Preprocessing\n",
    "convert_RGB2BW(resized_path)"
   ]
  },
  {
   "cell_type": "code",
   "execution_count": 17,
   "metadata": {},
   "outputs": [
    {
     "name": "stdout",
     "output_type": "stream",
     "text": [
      "1000_SQ-BW.jpg\n",
      "1001_SQ-BW.jpg\n",
      "1000_SQ-GR.jpg\n",
      "1001_SQ-GR.jpg\n",
      "[[[  0   0   0]\n",
      "  [  0   0   0]\n",
      "  [  0   0   0]\n",
      "  ...\n",
      "  [  0   0   0]\n",
      "  [  0   0   0]\n",
      "  [  0   0   0]]\n",
      "\n",
      " [[  0   0   0]\n",
      "  [  0   0   0]\n",
      "  [  0   0   0]\n",
      "  ...\n",
      "  [  0   0   0]\n",
      "  [  0   0   0]\n",
      "  [  0   0   0]]\n",
      "\n",
      " [[  0   0   0]\n",
      "  [  0   0   0]\n",
      "  [  0   0   0]\n",
      "  ...\n",
      "  [  0   0   0]\n",
      "  [  0   0   0]\n",
      "  [  0   0   0]]\n",
      "\n",
      " ...\n",
      "\n",
      " [[251 251 251]\n",
      "  [255 255 255]\n",
      "  [255 255 255]\n",
      "  ...\n",
      "  [  0   0   0]\n",
      "  [  0   0   0]\n",
      "  [  0   0   0]]\n",
      "\n",
      " [[255 255 255]\n",
      "  [244 244 244]\n",
      "  [255 255 255]\n",
      "  ...\n",
      "  [ 15  15  15]\n",
      "  [  6   6   6]\n",
      "  [ 13  13  13]]\n",
      "\n",
      " [[255 255 255]\n",
      "  [255 255 255]\n",
      "  [255 255 255]\n",
      "  ...\n",
      "  [255 255 255]\n",
      "  [238 238 238]\n",
      "  [  0   0   0]]]\n"
     ]
    }
   ],
   "source": [
    "# Load images into arrays\n",
    "'''\n",
    "train_arr = load_data(train_path)\n",
    "validate_arr = load_data(validate_path)\n",
    "'''\n",
    "train_arr = test_load(train_path)\n",
    "validate_arr = test_load(validate_path)\n",
    "\n",
    "# Convert image array into numpy array\n",
    "train_np = np.array(train_arr)\n",
    "validate_np = np.array(validate_arr)\n",
    "\n",
    "# Normalize\n",
    "train_np = train_np/255\n",
    "validate_np = validate_np/255"
   ]
  },
  {
   "cell_type": "code",
   "execution_count": 20,
   "metadata": {
    "scrolled": true
   },
   "outputs": [
    {
     "name": "stdout",
     "output_type": "stream",
     "text": [
      "[[[0.         0.         0.        ]\n",
      "  [0.         0.         0.        ]\n",
      "  [0.         0.         0.        ]\n",
      "  ...\n",
      "  [0.         0.         0.        ]\n",
      "  [0.         0.         0.        ]\n",
      "  [0.         0.         0.        ]]\n",
      "\n",
      " [[0.         0.         0.        ]\n",
      "  [0.         0.         0.        ]\n",
      "  [0.         0.         0.        ]\n",
      "  ...\n",
      "  [0.         0.         0.        ]\n",
      "  [0.         0.         0.        ]\n",
      "  [0.         0.         0.        ]]\n",
      "\n",
      " [[0.         0.         0.        ]\n",
      "  [0.         0.         0.        ]\n",
      "  [0.         0.         0.        ]\n",
      "  ...\n",
      "  [0.         0.         0.        ]\n",
      "  [0.         0.         0.        ]\n",
      "  [0.         0.         0.        ]]\n",
      "\n",
      " ...\n",
      "\n",
      " [[0.98431373 0.98431373 0.98431373]\n",
      "  [1.         1.         1.        ]\n",
      "  [1.         1.         1.        ]\n",
      "  ...\n",
      "  [0.         0.         0.        ]\n",
      "  [0.         0.         0.        ]\n",
      "  [0.         0.         0.        ]]\n",
      "\n",
      " [[1.         1.         1.        ]\n",
      "  [0.95686275 0.95686275 0.95686275]\n",
      "  [1.         1.         1.        ]\n",
      "  ...\n",
      "  [0.05882353 0.05882353 0.05882353]\n",
      "  [0.02352941 0.02352941 0.02352941]\n",
      "  [0.05098039 0.05098039 0.05098039]]\n",
      "\n",
      " [[1.         1.         1.        ]\n",
      "  [1.         1.         1.        ]\n",
      "  [1.         1.         1.        ]\n",
      "  ...\n",
      "  [1.         1.         1.        ]\n",
      "  [0.93333333 0.93333333 0.93333333]\n",
      "  [0.         0.         0.        ]]]\n",
      "(2, 256, 256, 3)\n"
     ]
    }
   ],
   "source": [
    "# Check data size, dimensions, and channels\n",
    "print(train_np.shape)\n",
    "print(validate_np.shape)"
   ]
  },
  {
   "cell_type": "code",
   "execution_count": 30,
   "metadata": {},
   "outputs": [
    {
     "name": "stdout",
     "output_type": "stream",
     "text": [
      "WARNING:tensorflow:From /home/pandabear/anaconda3/envs/tf_py37/lib/python3.7/site-packages/tensorflow/python/framework/op_def_library.py:263: colocate_with (from tensorflow.python.framework.ops) is deprecated and will be removed in a future version.\n",
      "Instructions for updating:\n",
      "Colocations handled automatically by placer.\n"
     ]
    }
   ],
   "source": [
    "# Autoencoder model\n",
    "auto = Sequential()\n",
    "#auto.add(Input(shape=(size,), batch_shape=(batch_size,size)))\n",
    "\n",
    "# Encoder - smaller filters, larger feature map\n",
    "auto.add(Conv2D(16, (3,3), strides=(2,2), activation=\"relu\"))\n",
    "auto.add(MaxPooling2D((2,2), padding = \"same\"))\n",
    "auto.add(Conv2D(32, (3,3), strides=(2,2), activation=\"relu\"))\n",
    "auto.add(MaxPooling2D((2,2), padding = \"same\"))\n",
    "auto.add(Conv2D(64, (3,3), strides=(2,2), activation=\"relu\"))\n",
    "auto.add(MaxPooling2D((2,2), padding = \"same\"))\n",
    "auto.add(Conv2D(128, (3,3), strides=(2,2), activation=\"relu\"))\n",
    "auto.add(MaxPooling2D((2,2), padding = \"same\"))\n",
    "auto.add(Conv2D(256, (3,3), strides=(2,2), activation=\"relu\"))\n",
    "auto.add(MaxPooling2D((2,2), padding = \"same\"))\n",
    "\n",
    "# Decoder \n",
    "auto.add(UpSampling2D((2,2)))\n",
    "auto.add(Conv2D(256, (3,3), activation='relu', padding='same'))\n",
    "auto.add(UpSampling2D((2,2)))\n",
    "auto.add(Conv2D(128, (3,3), activation='relu', padding='same'))\n",
    "auto.add(Conv2D(64, (3,3), activation='relu', padding='same'))\n",
    "auto.add(UpSampling2D((2,2)))\n",
    "auto.add(Conv2D(32, (3,3), activation='relu', padding='same'))\n",
    "auto.add(UpSampling2D((2,2)))\n",
    "auto.add(Conv2D(16, (3,3), activation='relu', padding='same'))\n",
    "\n",
    "auto.compile(optimizer='adam', loss='mse', metrics=['accuracy'])"
   ]
  },
  {
   "cell_type": "code",
   "execution_count": null,
   "metadata": {},
   "outputs": [],
   "source": [
    "auto = load_model(saved_model)\n",
    "#auto = load_weight(saved_weights)"
   ]
  },
  {
   "cell_type": "code",
   "execution_count": 31,
   "metadata": {},
   "outputs": [
    {
     "ename": "NameError",
     "evalue": "name 'step_size' is not defined",
     "output_type": "error",
     "traceback": [
      "\u001b[0;31m---------------------------------------------------------------------------\u001b[0m",
      "\u001b[0;31mNameError\u001b[0m                                 Traceback (most recent call last)",
      "\u001b[0;32m<ipython-input-31-515590e60754>\u001b[0m in \u001b[0;36m<module>\u001b[0;34m\u001b[0m\n\u001b[1;32m      1\u001b[0m \u001b[0;31m# fit(training data, label data, ...)\u001b[0m\u001b[0;34m\u001b[0m\u001b[0;34m\u001b[0m\u001b[0;34m\u001b[0m\u001b[0m\n\u001b[1;32m      2\u001b[0m auto.fit(train_np, validate_np, validation_split=0.1, epochs=epoch_size, verbose=1, shuffle=True, \n\u001b[0;32m----> 3\u001b[0;31m         \u001b[0msteps_per_epoch\u001b[0m\u001b[0;34m=\u001b[0m\u001b[0mstep_size\u001b[0m\u001b[0;34m(\u001b[0m\u001b[0mtrain_path\u001b[0m\u001b[0;34m,\u001b[0m \u001b[0mbatch_size\u001b[0m\u001b[0;34m)\u001b[0m\u001b[0;34m,\u001b[0m\u001b[0;34m\u001b[0m\u001b[0;34m\u001b[0m\u001b[0m\n\u001b[0m\u001b[1;32m      4\u001b[0m         callbacks = EarlyStopping(min_delta=0.001, patience=5))\n",
      "\u001b[0;31mNameError\u001b[0m: name 'step_size' is not defined"
     ]
    }
   ],
   "source": [
    "# fit(training data, label data, ...)\n",
    "auto.fit(train_np, validate_np, validation_split=0.1, epochs=epoch_size, verbose=1, shuffle=True, \n",
    "        steps_per_epoch=step_size(train_path, batch_size),\n",
    "        callbacks = EarlyStopping(min_delta=0.001, patience=5))"
   ]
  },
  {
   "cell_type": "code",
   "execution_count": null,
   "metadata": {},
   "outputs": [],
   "source": [
    "auto.save(os.path.join(models_path, saved_model))\n",
    "#auto.save((os.path.join(models_path, saved_weights))"
   ]
  },
  {
   "cell_type": "code",
   "execution_count": null,
   "metadata": {},
   "outputs": [],
   "source": [
    "def get_predicted(test_path):\n",
    "    predicted_path = create_dir(\"predicted_images/\")\n",
    "    for image in os.listdir(test_path):\n",
    "        predicted_gray = auto.predict(image)\n",
    "        predicted_img = Image.fromarray(predicted_gray)\n",
    "        predicted_img.save(save_path(predicted_path, file, \"_PR\"))"
   ]
  },
  {
   "cell_type": "code",
   "execution_count": null,
   "metadata": {},
   "outputs": [],
   "source": [
    "get_predicted(test_path)"
   ]
  }
 ],
 "metadata": {
  "kernelspec": {
   "display_name": "Python 3",
   "language": "python",
   "name": "python3"
  },
  "language_info": {
   "codemirror_mode": {
    "name": "ipython",
    "version": 3
   },
   "file_extension": ".py",
   "mimetype": "text/x-python",
   "name": "python",
   "nbconvert_exporter": "python",
   "pygments_lexer": "ipython3",
   "version": "3.7.3"
  }
 },
 "nbformat": 4,
 "nbformat_minor": 2
}
