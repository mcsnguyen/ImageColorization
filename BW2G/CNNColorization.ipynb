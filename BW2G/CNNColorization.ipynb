{
 "cells": [
  {
   "cell_type": "code",
   "execution_count": 1,
   "metadata": {},
   "outputs": [
    {
     "name": "stderr",
     "output_type": "stream",
     "text": [
      "Using TensorFlow backend.\n"
     ]
    }
   ],
   "source": [
    "import os\n",
    "import cv2\n",
    "import h5py\n",
    "import keras\n",
    "import numpy as np\n",
    "import matplotlib.pyplot as plt\n",
    "\n",
    "from PIL import Image\n",
    "from keras.models import Sequential, load_model\n",
    "from keras.layers import Input, Conv2D, MaxPooling2D, UpSampling2D, Dropout\n",
    "from keras.callbacks import EarlyStopping"
   ]
  },
  {
   "cell_type": "code",
   "execution_count": 17,
   "metadata": {},
   "outputs": [],
   "source": [
    "size = 256\n",
    "batch_size = 100\n",
    "channels = 1\n",
    "\n",
    "dataset_path = \"images/0\"\n",
    "resized_path = \"squared_images/\"\n",
    "train_path = \"bw_images/\"\n",
    "validate_path = \"gray_images/\"\n",
    "test_path = \"test/\"\n",
    "\n",
    "models_path = \"saved_parameters/\"\n",
    "saved_model = \"saved_model.h5\"\n",
    "saved_weights = \"saved_weights.h5\""
   ]
  },
  {
   "cell_type": "code",
   "execution_count": 3,
   "metadata": {
    "scrolled": true
   },
   "outputs": [],
   "source": [
    "# Create directory\n",
    "def create_dir(folder_name):\n",
    "    folder = os.path.join(folder_name)\n",
    "    if not os.path.exists(folder):\n",
    "        os.mkdir(folder)\n",
    "    return folder\n",
    "                          \n",
    "def save_path(dir_path, file, appended_name):\n",
    "    file_base = os.path.basename(file)\n",
    "    file_name, file_ext = os.path.splitext(file_base)   \n",
    "    return dir_path + file_name + appended_name + file_ext\n",
    "\n",
    "# Create and save black and white images\n",
    "def convert_RGB2BW(dataset_path):\n",
    "    bw_path = create_dir(\"bw_images/\")\n",
    "    grayscale_path = create_dir(\"gray_images/\")\n",
    "    for file in os.listdir(dataset_path):\n",
    "        image = Image.open(os.path.join(dataset_path, file))\n",
    "        \n",
    "        # Convert image to grayscale based on Lighting\n",
    "        grayscale = image.convert('L')\n",
    "        grayscale = np.asarray(grayscale).copy()\n",
    "        gray_image = Image.fromarray(grayscale)\n",
    "        gray_image.save(save_path(grayscale_path, file, \"-GR\"))\n",
    "        \n",
    "        # Turn darker pixels black (0) and lighter pixels white (255)\n",
    "        grayscale[grayscale < 128] = 0\n",
    "        grayscale[grayscale >= 128] = 255\n",
    "        bw_image = Image.fromarray(grayscale)\n",
    "        bw_image.save(save_path(bw_path, file, \"-BW\"))\n",
    "        \n",
    "# Preprocess images: creates a white image and pastes data into white image\n",
    "def square_images(dataset_path, size):\n",
    "    dir_path = create_dir(\"squared_images/\")\n",
    "    for file in os.listdir(dataset_path):\n",
    "        image = Image.open(os.path.join(dataset_path, file))\n",
    "        width, height = image.size\n",
    "        if(width != height and width != size):\n",
    "            squared_image = image.resize((size,size), Image.LANCZOS)\n",
    "            #squared_image.paste(image)\n",
    "            squared_image.save(save_path(dir_path, file, \"_SQ\"))\n",
    "    "
   ]
  },
  {
   "cell_type": "code",
   "execution_count": 14,
   "metadata": {},
   "outputs": [],
   "source": [
    "# Load training and validating images with cv2 to capture channel dim\n",
    "def load_binary_gray(dir_path):\n",
    "    data_arr = []\n",
    "    for file in os.listdir(dir_path):\n",
    "        img_read = cv2.imread(os.path.join(dir_path, file), 0)\n",
    "        img_read = np.array(img_read)\n",
    "        data_arr.append(img_read)\n",
    "    return data_arr\n",
    "\n",
    "def test_load(dir_path):\n",
    "    data_arr = []\n",
    "    counter = 0\n",
    "    for file in sorted(os.listdir(dir_path)):\n",
    "        img_read = cv2.imread(os.path.join(dir_path, file), 0)\n",
    "        img_read = np.array(img_read)\n",
    "        print(file)\n",
    "        print(img_read.shape)\n",
    "        data_arr.append(img_read)\n",
    "        counter += 1\n",
    "        if counter == 2:\n",
    "            return data_arr\n",
    "    return data_arr\n",
    "\n",
    "# Calculate epoch size to traverse all training data\n",
    "def epoch_steps(dir_path, batch_size):\n",
    "    counter = 0\n",
    "    for file in os.listdir(dir_path):\n",
    "        if os.path.isfile(os.path.join(dir_path, file)):\n",
    "            counter += 1\n",
    "    return counter/batch_size"
   ]
  },
  {
   "cell_type": "code",
   "execution_count": null,
   "metadata": {},
   "outputs": [],
   "source": [
    "# Resize Image\n",
    "square_images(dataset_path, size)"
   ]
  },
  {
   "cell_type": "code",
   "execution_count": null,
   "metadata": {
    "scrolled": false
   },
   "outputs": [],
   "source": [
    "# Image Preprocessing\n",
    "convert_RGB2BW(resized_path)"
   ]
  },
  {
   "cell_type": "code",
   "execution_count": 51,
   "metadata": {},
   "outputs": [
    {
     "name": "stdout",
     "output_type": "stream",
     "text": [
      "1000_SQ_BW.jpg\n",
      "(256, 256)\n",
      "1001_SQ_BW.jpg\n",
      "(256, 256)\n",
      "1000_SQ_GR.jpg\n",
      "(256, 256)\n",
      "1001_SQ_GR.jpg\n",
      "(256, 256)\n"
     ]
    }
   ],
   "source": [
    "# Load images into arrays\n",
    "'''\n",
    "train_arr = load_binary_gray(train_path)\n",
    "validate_arr = load_binary_gray(validate_path)\n",
    "'''\n",
    "train_arr = test_load(train_path)\n",
    "validate_arr = test_load(validate_path)\n",
    "\n",
    "# Convert image array into numpy array\n",
    "train_np = train_np.astype('float32')\n",
    "validate_np = validate_np.astype('float32')\n",
    "\n",
    "# Reshape to include channel dim for grayscale/black and white images\n",
    "train_np = train_np.reshape(train_np.shape[0], size, size, 1)\n",
    "validate_np = validate_np.reshape(validate_np.shape[0], size, size, 1)\n",
    "\n",
    "# Normalize\n",
    "train_np = train_np/255\n",
    "validate_np = validate_np/255"
   ]
  },
  {
   "cell_type": "code",
   "execution_count": 52,
   "metadata": {
    "scrolled": true
   },
   "outputs": [
    {
     "name": "stdout",
     "output_type": "stream",
     "text": [
      "(2, 256, 256, 1)\n",
      "float32\n",
      "(2, 256, 256, 1)\n",
      "float32\n",
      "(256, 256, 1)\n"
     ]
    },
    {
     "data": {
      "text/plain": [
       "<matplotlib.image.AxesImage at 0x203a6b99d30>"
      ]
     },
     "execution_count": 52,
     "metadata": {},
     "output_type": "execute_result"
    },
    {
     "data": {
      "image/png": "[encoded data removed]",
      "text/plain": [
       "<Figure size 432x288 with 1 Axes>"
      ]
     },
     "metadata": {
      "needs_background": "light"
     },
     "output_type": "display_data"
    }
   ],
   "source": [
    "# Check data size, dimensions, and channels\n",
    "\n",
    "print(train_np.shape)\n",
    "print(train_np.dtype)\n",
    "print(validate_np.shape)\n",
    "print(validate_np.dtype)\n",
    "\n",
    "print(train_np[0].shape)\n",
    "plt.imshow(train_np[0].squeeze(), cmap='gray')\n"
   ]
  },
  {
   "cell_type": "code",
   "execution_count": 56,
   "metadata": {},
   "outputs": [
    {
     "name": "stdout",
     "output_type": "stream",
     "text": [
      "_________________________________________________________________\n",
      "Layer (type)                 Output Shape              Param #   \n",
      "=================================================================\n",
      "conv2d_47 (Conv2D)           (None, 127, 127, 16)      160       \n",
      "_________________________________________________________________\n",
      "max_pooling2d_25 (MaxPooling (None, 64, 64, 16)        0         \n",
      "_________________________________________________________________\n",
      "conv2d_48 (Conv2D)           (None, 32, 32, 32)        4640      \n",
      "_________________________________________________________________\n",
      "max_pooling2d_26 (MaxPooling (None, 16, 16, 32)        0         \n",
      "_________________________________________________________________\n",
      "conv2d_49 (Conv2D)           (None, 8, 8, 64)          18496     \n",
      "_________________________________________________________________\n",
      "max_pooling2d_27 (MaxPooling (None, 4, 4, 64)          0         \n",
      "_________________________________________________________________\n",
      "conv2d_50 (Conv2D)           (None, 2, 2, 128)         73856     \n",
      "_________________________________________________________________\n",
      "max_pooling2d_28 (MaxPooling (None, 1, 1, 128)         0         \n",
      "_________________________________________________________________\n",
      "conv2d_51 (Conv2D)           (None, 1, 1, 256)         295168    \n",
      "_________________________________________________________________\n",
      "conv2d_52 (Conv2D)           (None, 1, 1, 256)         590080    \n",
      "_________________________________________________________________\n",
      "up_sampling2d_4 (UpSampling2 (None, 2, 2, 256)         0         \n",
      "_________________________________________________________________\n",
      "conv2d_53 (Conv2D)           (None, 2, 2, 128)         295040    \n",
      "_________________________________________________________________\n",
      "conv2d_54 (Conv2D)           (None, 2, 2, 64)          73792     \n",
      "_________________________________________________________________\n",
      "up_sampling2d_5 (UpSampling2 (None, 4, 4, 64)          0         \n",
      "_________________________________________________________________\n",
      "conv2d_55 (Conv2D)           (None, 4, 4, 32)          18464     \n",
      "_________________________________________________________________\n",
      "up_sampling2d_6 (UpSampling2 (None, 8, 8, 32)          0         \n",
      "_________________________________________________________________\n",
      "conv2d_56 (Conv2D)           (None, 8, 8, 16)          4624      \n",
      "=================================================================\n",
      "Total params: 1,374,320\n",
      "Trainable params: 1,374,320\n",
      "Non-trainable params: 0\n",
      "_________________________________________________________________\n"
     ]
    }
   ],
   "source": [
    "# Autoencoder model\n",
    "auto = Sequential()\n",
    "\n",
    "# Encoder - smaller filters, larger feature map\n",
    "auto.add(Conv2D(16, (3,3), strides=(2,2), activation=\"relu\", input_shape=(size, size, channels), data_format='channels_last'))\n",
    "auto.add(MaxPooling2D((2,2), padding = \"same\"))\n",
    "auto.add(Conv2D(32, (3,3), strides=(2,2), padding = \"same\", activation=\"relu\"))\n",
    "auto.add(MaxPooling2D((2,2), padding = \"same\"))\n",
    "auto.add(Conv2D(64, (3,3), strides=(2,2), padding = \"same\", activation=\"relu\"))\n",
    "auto.add(MaxPooling2D((2,2), padding = \"same\"))\n",
    "auto.add(Conv2D(128, (3,3), strides=(2,2), padding = \"same\", activation=\"relu\"))\n",
    "auto.add(MaxPooling2D((2,2), padding = \"same\"))\n",
    "auto.add(Conv2D(256, (3,3), strides=(2,2), padding = \"same\", activation=\"relu\"))\n",
    "\n",
    "# Decoder \n",
    "auto.add(Conv2D(256, (3,3), activation='relu', padding='same'))\n",
    "auto.add(UpSampling2D((2,2)))\n",
    "auto.add(Conv2D(128, (3,3), activation='relu', padding='same'))\n",
    "auto.add(Conv2D(64, (3,3), activation='relu', padding='same'))\n",
    "auto.add(UpSampling2D((2,2)))\n",
    "auto.add(Conv2D(32, (3,3), activation='relu', padding='same'))\n",
    "auto.add(UpSampling2D((2,2)))\n",
    "auto.add(Conv2D(16, (3,3), activation='relu', padding='same'))\n",
    "\n",
    "auto.compile(optimizer='adam', loss='mse', metrics=['accuracy'])\n",
    "auto.summary()"
   ]
  },
  {
   "cell_type": "code",
   "execution_count": null,
   "metadata": {},
   "outputs": [],
   "source": [
    "auto = load_model(saved_model)\n",
    "#auto = load_weight(saved_weights)"
   ]
  },
  {
   "cell_type": "code",
   "execution_count": 55,
   "metadata": {},
   "outputs": [
    {
     "ename": "ValueError",
     "evalue": "Error when checking target: expected conv2d_46 to have shape (8, 8, 16) but got array with shape (256, 256, 1)",
     "output_type": "error",
     "traceback": [
      "\u001b[1;31m---------------------------------------------------------------------------\u001b[0m",
      "\u001b[1;31mValueError\u001b[0m                                Traceback (most recent call last)",
      "\u001b[1;32m<ipython-input-55-f0b7ce206571>\u001b[0m in \u001b[0;36m<module>\u001b[1;34m\u001b[0m\n\u001b[0;32m      2\u001b[0m auto.fit(train_np, validate_np, validation_split=0.1, epochs=20, verbose=1, shuffle=True, \n\u001b[0;32m      3\u001b[0m         \u001b[0msteps_per_epoch\u001b[0m\u001b[1;33m=\u001b[0m\u001b[0mepoch_steps\u001b[0m\u001b[1;33m(\u001b[0m\u001b[0mtrain_path\u001b[0m\u001b[1;33m,\u001b[0m \u001b[0mbatch_size\u001b[0m\u001b[1;33m)\u001b[0m\u001b[1;33m,\u001b[0m\u001b[1;33m\u001b[0m\u001b[1;33m\u001b[0m\u001b[0m\n\u001b[1;32m----> 4\u001b[1;33m         callbacks = EarlyStopping(min_delta=0.001, patience=5))\n\u001b[0m\u001b[0;32m      5\u001b[0m \u001b[1;33m\u001b[0m\u001b[0m\n\u001b[0;32m      6\u001b[0m \u001b[1;31m#auto.fit(train_np, validate_np, validation_split=0.1, epochs=epoch_size, batch_size=batch_size)\u001b[0m\u001b[1;33m\u001b[0m\u001b[1;33m\u001b[0m\u001b[1;33m\u001b[0m\u001b[0m\n",
      "\u001b[1;32m~\\Anaconda3\\envs\\python37\\lib\\site-packages\\keras\\engine\\training.py\u001b[0m in \u001b[0;36mfit\u001b[1;34m(self, x, y, batch_size, epochs, verbose, callbacks, validation_split, validation_data, shuffle, class_weight, sample_weight, initial_epoch, steps_per_epoch, validation_steps, **kwargs)\u001b[0m\n\u001b[0;32m    950\u001b[0m             \u001b[0msample_weight\u001b[0m\u001b[1;33m=\u001b[0m\u001b[0msample_weight\u001b[0m\u001b[1;33m,\u001b[0m\u001b[1;33m\u001b[0m\u001b[1;33m\u001b[0m\u001b[0m\n\u001b[0;32m    951\u001b[0m             \u001b[0mclass_weight\u001b[0m\u001b[1;33m=\u001b[0m\u001b[0mclass_weight\u001b[0m\u001b[1;33m,\u001b[0m\u001b[1;33m\u001b[0m\u001b[1;33m\u001b[0m\u001b[0m\n\u001b[1;32m--> 952\u001b[1;33m             batch_size=batch_size)\n\u001b[0m\u001b[0;32m    953\u001b[0m         \u001b[1;31m# Prepare validation data.\u001b[0m\u001b[1;33m\u001b[0m\u001b[1;33m\u001b[0m\u001b[1;33m\u001b[0m\u001b[0m\n\u001b[0;32m    954\u001b[0m         \u001b[0mdo_validation\u001b[0m \u001b[1;33m=\u001b[0m \u001b[1;32mFalse\u001b[0m\u001b[1;33m\u001b[0m\u001b[1;33m\u001b[0m\u001b[0m\n",
      "\u001b[1;32m~\\Anaconda3\\envs\\python37\\lib\\site-packages\\keras\\engine\\training.py\u001b[0m in \u001b[0;36m_standardize_user_data\u001b[1;34m(self, x, y, sample_weight, class_weight, check_array_lengths, batch_size)\u001b[0m\n\u001b[0;32m    787\u001b[0m                 \u001b[0mfeed_output_shapes\u001b[0m\u001b[1;33m,\u001b[0m\u001b[1;33m\u001b[0m\u001b[1;33m\u001b[0m\u001b[0m\n\u001b[0;32m    788\u001b[0m                 \u001b[0mcheck_batch_axis\u001b[0m\u001b[1;33m=\u001b[0m\u001b[1;32mFalse\u001b[0m\u001b[1;33m,\u001b[0m  \u001b[1;31m# Don't enforce the batch size.\u001b[0m\u001b[1;33m\u001b[0m\u001b[1;33m\u001b[0m\u001b[0m\n\u001b[1;32m--> 789\u001b[1;33m                 exception_prefix='target')\n\u001b[0m\u001b[0;32m    790\u001b[0m \u001b[1;33m\u001b[0m\u001b[0m\n\u001b[0;32m    791\u001b[0m             \u001b[1;31m# Generate sample-wise weight values given the `sample_weight` and\u001b[0m\u001b[1;33m\u001b[0m\u001b[1;33m\u001b[0m\u001b[1;33m\u001b[0m\u001b[0m\n",
      "\u001b[1;32m~\\Anaconda3\\envs\\python37\\lib\\site-packages\\keras\\engine\\training_utils.py\u001b[0m in \u001b[0;36mstandardize_input_data\u001b[1;34m(data, names, shapes, check_batch_axis, exception_prefix)\u001b[0m\n\u001b[0;32m    136\u001b[0m                             \u001b[1;34m': expected '\u001b[0m \u001b[1;33m+\u001b[0m \u001b[0mnames\u001b[0m\u001b[1;33m[\u001b[0m\u001b[0mi\u001b[0m\u001b[1;33m]\u001b[0m \u001b[1;33m+\u001b[0m \u001b[1;34m' to have shape '\u001b[0m \u001b[1;33m+\u001b[0m\u001b[1;33m\u001b[0m\u001b[1;33m\u001b[0m\u001b[0m\n\u001b[0;32m    137\u001b[0m                             \u001b[0mstr\u001b[0m\u001b[1;33m(\u001b[0m\u001b[0mshape\u001b[0m\u001b[1;33m)\u001b[0m \u001b[1;33m+\u001b[0m \u001b[1;34m' but got array with shape '\u001b[0m \u001b[1;33m+\u001b[0m\u001b[1;33m\u001b[0m\u001b[1;33m\u001b[0m\u001b[0m\n\u001b[1;32m--> 138\u001b[1;33m                             str(data_shape))\n\u001b[0m\u001b[0;32m    139\u001b[0m     \u001b[1;32mreturn\u001b[0m \u001b[0mdata\u001b[0m\u001b[1;33m\u001b[0m\u001b[1;33m\u001b[0m\u001b[0m\n\u001b[0;32m    140\u001b[0m \u001b[1;33m\u001b[0m\u001b[0m\n",
      "\u001b[1;31mValueError\u001b[0m: Error when checking target: expected conv2d_46 to have shape (8, 8, 16) but got array with shape (256, 256, 1)"
     ]
    }
   ],
   "source": [
    "# fit(training data, label data, ...)\n",
    "auto.fit(train_np, validate_np, validation_split=0.1, epochs=20, verbose=1, shuffle=True, \n",
    "        steps_per_epoch=epoch_steps(train_path, batch_size),\n",
    "        callbacks = EarlyStopping(min_delta=0.001, patience=5))\n",
    "        \n",
    "#auto.fit(train_np, validate_np, validation_split=0.1, epochs=epoch_size, batch_size=batch_size)"
   ]
  },
  {
   "cell_type": "code",
   "execution_count": null,
   "metadata": {},
   "outputs": [],
   "source": [
    "auto.save(os.path.join(models_path, saved_model))\n",
    "#auto.save((os.path.join(models_path, saved_weights))"
   ]
  },
  {
   "cell_type": "code",
   "execution_count": null,
   "metadata": {},
   "outputs": [],
   "source": [
    "def get_predicted(test_path):\n",
    "    predicted_path = create_dir(\"predicted_images/\")\n",
    "    for image in os.listdir(test_path):\n",
    "        predicted_gray = auto.predict(image)\n",
    "        predicted_img = Image.fromarray(predicted_gray)\n",
    "        predicted_img.save(save_path(predicted_path, file, \"_PR\"))"
   ]
  },
  {
   "cell_type": "code",
   "execution_count": null,
   "metadata": {},
   "outputs": [],
   "source": [
    "get_predicted(test_path)"
   ]
  }
 ],
 "metadata": {
  "kernelspec": {
   "display_name": "Python 3",
   "language": "python",
   "name": "python3"
  },
  "language_info": {
   "codemirror_mode": {
    "name": "ipython",
    "version": 3
   },
   "file_extension": ".py",
   "mimetype": "text/x-python",
   "name": "python",
   "nbconvert_exporter": "python",
   "pygments_lexer": "ipython3",
   "version": "3.6.8"
  }
 },
 "nbformat": 4,
 "nbformat_minor": 2
}
